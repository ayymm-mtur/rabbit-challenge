{
 "cells": [
  {
   "cell_type": "markdown",
   "metadata": {},
   "source": [
    "# 1.線形代数\n",
    "行列とはスカラー（値）、ベクトルを並べたものである。​\n",
    "行列によって連立方程式を表現したり、ベクトルを変換したりできる。​\n",
    "例えば下の連立方程式と行列は等価である。\n",
    "\n",
    "$$\n",
    "        \\begin{cases}\n",
    "        x_1  + 2x_2 = 3\\\\\n",
    "        2x_1  + 5x_2 = 5\\\\\n",
    "        \\end{cases}\n",
    "$$\n",
    "\n",
    "$$\n",
    "        \\begin{pmatrix}\n",
    "            1 & 2 \\\\\n",
    "            2 & 5\n",
    "        \\end{pmatrix}\n",
    "        \\begin{pmatrix}\n",
    "            x_1 \\\\\n",
    "            x_2\n",
    "        \\end{pmatrix}\n",
    "        =\n",
    "       \\begin{pmatrix}\n",
    "            3 \\\\\n",
    "            5\n",
    "        \\end{pmatrix}\n",
    "$$"
   ]
  },
  {
   "cell_type": "markdown",
   "metadata": {},
   "source": [
    "## 逆行列\n",
    "ある行列の逆数の様なものを、その行列の逆行列という。\n",
    "行列に逆行列を作用させると単位行列になる。\n",
    "$$\n",
    "        \\begin{pmatrix}\n",
    "            1 & 2 \\\\\n",
    "            2 & 5\n",
    "        \\end{pmatrix}\n",
    "        \\begin{pmatrix}\n",
    "            x_1 \\\\\n",
    "            x_2\n",
    "        \\end{pmatrix}\n",
    "        =\n",
    "       \\begin{pmatrix}\n",
    "            1 & 0 \\\\\n",
    "            0 & 1\n",
    "       \\end{pmatrix}\n",
    "$$"
   ]
  },
  {
   "cell_type": "markdown",
   "metadata": {},
   "source": [
    "逆行列が存在しない条件\n",
    "$$\n",
    "        \\begin{pmatrix}\n",
    "            a & b \\\\\n",
    "            c & d\n",
    "        \\end{pmatrix}\n",
    "$$\n",
    "において\n",
    "$$\n",
    "ad - bc = 0\n",
    "$$\n",
    "のとき逆行列が存在しない"
   ]
  },
  {
   "cell_type": "markdown",
   "metadata": {},
   "source": [
    "## 固有値と固有ベクトル\n",
    "行列Aとベクトルxにおいて以下の関係が成り立つとき、λを固有値、xを固有ベクトルという\n",
    "$$\n",
    "A\\vec{x}=\\lambda\\vec{x}\n",
    "$$\n",
    "式変形をすると、\n",
    "$$\n",
    "(A-\\lambda I)\\vec{x}=0\n",
    "$$\n",
    "xはゼロベクトルではないことから、(A-λI)は逆行列を持たない。|A-λI|がゼロであることが分かる。\n",
    "固有値が求まると、行列の固有値分解ができる。​\n",
    "\n",
    "固有値を対角線上に並べた行列Λと固有ベクトルを並べた行列Xを用いると固有値分解は以下のようになる。\n",
    "\n",
    "$$\n",
    "        \\Lambda =\n",
    "        \\begin{pmatrix}\n",
    "            \\lambda_1 & & & \\\\\n",
    "             &  \\lambda_2 & & \\\\\n",
    "             & & \\ddots & \\\\\n",
    "             & & & \\lambda_3\n",
    "        \\end{pmatrix}\n",
    "$$\n",
    "\n",
    "$$\n",
    "        X =\n",
    "        \\begin{pmatrix}\n",
    "            \\vec{x_1} & \\vec{x_2} & \\cdots & \\vec{x_n} \n",
    "        \\end{pmatrix}\n",
    "$$\n",
    "\n",
    "$$\n",
    "        A\\Lambda = \\Lambda X \\\\\n",
    "        A = \\Lambda X \\Lambda^{-1}\n",
    "$$"
   ]
  },
  {
   "cell_type": "markdown",
   "metadata": {},
   "source": [
    "## 特異値"
   ]
  },
  {
   "cell_type": "markdown",
   "metadata": {},
   "source": [
    "正方行列以外の行列において、固有値分解の様なもの\n",
    "$$\n",
    "M \\vec{v} = \\sigma \\vec{u} \\\\\n",
    "M^T \\vec{u} = \\sigma \\vec{v}\n",
    "$$\n",
    "このような特殊な単位ベクトルが存在するとき、特異値分解ができる\n",
    "$$\n",
    "MV = USV^-1\\\\\n",
    "$$"
   ]
  }
 ],
 "metadata": {
  "kernelspec": {
   "display_name": "Python 3",
   "language": "python",
   "name": "python3"
  },
  "language_info": {
   "codemirror_mode": {
    "name": "ipython",
    "version": 3
   },
   "file_extension": ".py",
   "mimetype": "text/x-python",
   "name": "python",
   "nbconvert_exporter": "python",
   "pygments_lexer": "ipython3",
   "version": "3.6.5"
  }
 },
 "nbformat": 4,
 "nbformat_minor": 2
}
