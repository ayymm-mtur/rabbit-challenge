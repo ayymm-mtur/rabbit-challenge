{
 "cells": [
  {
   "cell_type": "markdown",
   "metadata": {},
   "source": [
    "# 2. Alpha Go\n",
    "\n",
    "## 2-1. Alpha Go Lee\n",
    "### Alpha Go (Lee)のPolicyNet\n",
    "方策関数\n",
    "<img src=\"./image/2_1_policy_net.png\">\n",
    "\n",
    "### Alpha Go (Lee) のValueNet\n",
    "価値関数\n",
    "<img src=\"./image/2_2_value_net.png\">\n",
    "\n",
    "PolicyNetとVauleNetに入力する特徴の例<br>\n",
    "取れる石の数、取られる石の数\n",
    "\n",
    "### Alpha GOの学習\n",
    "１、教師あり学習によるRollOutPolicyとPolicyNetの学習<br>\n",
    "- 人間と人間の対局をPolicyNetに学習させる。\n",
    "<br>２、強化学習によるPolicyNetの学習<br>\n",
    "<br>\n",
    "３、強化学習によるValueNetの学習\n",
    "- モンテカルロ木探索で価値関数を更新する際に、RollOutPolicyを用いる。\n",
    "\n",
    "\n",
    "## 2-2. Alpha Go Zero\n",
    "１．教師あり学習を一切行わない<br>\n",
    "２．Lee特徴量は人間が決めていたが、Zeroでは医師の配置のみ<br>\n",
    "３．PolicyNetとValueNetを統合<br>\n",
    "４．Residual Netを導入<br>\n",
    "５．モンテカルロ木探索からRollOutシミュレーションをなくした<br>\n",
    "\n",
    "<img src=\"./image/2_3_policy_value_net.png\">\n",
    "\n",
    "### Residual Network\n",
    "- ネットワークにショートカットを導入することで、勾配爆発、消失を防ぐ\n",
    "- Resisual Networkを使うことにより層数の違うNetworkのアンサンブル効果が得られているという説もある\n",
    "\n",
    "### Residual Networkの派生形\n",
    "#### Residual Blockの工夫\n",
    "- Bottleneck\n",
    "1×1KernelのConvolutionを利用し、1層目で次元削減を行って3層目で次元を復元する３層構造にし、２層のものと比べて計算量はほぼ同じだが１層増やせるメリットがある、としたもの\n",
    "- PreActivation\n",
    "ResidualBlockの並びをBatchNorm→ReLU→Convolution→BatchNorm→ReLU→Convolution→Addとすることにより性能が上昇したとするもの\n",
    "\n",
    "#### Network構造の工夫\n",
    "- WideResNet\n",
    "ConvolutionのFilter数をk倍にしたResNet。１倍→k倍ｘブロック→2*k倍yブロックと段階的に幅を増やしていくのが一般的。Filter数を増やすことにより、浅い層数でも深い層数のものと同等以上の精度となり、またGPUをより効率的に使用できるため学習も早い\n",
    "- PyramidNet\n",
    "WideResNetで幅が広がった直後の層に過度の負担がかかり精度を落とす原因となっているとし、段階的にではなく、各層でFilter数を増やしていくResNet"
   ]
  },
  {
   "cell_type": "code",
   "execution_count": null,
   "metadata": {},
   "outputs": [],
   "source": []
  }
 ],
 "metadata": {
  "kernelspec": {
   "display_name": "Python 3",
   "language": "python",
   "name": "python3"
  },
  "language_info": {
   "codemirror_mode": {
    "name": "ipython",
    "version": 3
   },
   "file_extension": ".py",
   "mimetype": "text/x-python",
   "name": "python",
   "nbconvert_exporter": "python",
   "pygments_lexer": "ipython3",
   "version": "3.6.5"
  }
 },
 "nbformat": 4,
 "nbformat_minor": 2
}
