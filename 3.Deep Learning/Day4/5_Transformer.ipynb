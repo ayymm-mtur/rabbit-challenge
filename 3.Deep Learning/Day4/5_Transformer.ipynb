{
 "cells": [
  {
   "cell_type": "markdown",
   "metadata": {},
   "source": [
    "# 5. Transformer\n",
    "\n",
    "## Seq2seq\n",
    "- Eoncoder-Decoderモデル\n",
    "翻訳、音声認識、チャットボットなど\n",
    "\n",
    "### 言語モデルとは\n",
    "- 単語の並びに確率を与える\n",
    "\n",
    "単語の並びに対して尤度を確率として判断する。<br>\n",
    "時刻t-1までの情報で、時刻tの事後確率を求めることが目標。<br>\n",
    "\n",
    "### RNNと言語モデル\n",
    "- RNNは系列情報を内部状態に変換できる\n",
    "- 文章に単語が現れる同時確率は、事後確率で分解できる\n",
    "- 言語モデルを再現するようにRNNの重みが学習されていれば、自然な文章を生成できる。\n",
    "\n",
    "\n",
    "## Transformer\n",
    "ニューラル機械翻訳の問題点\n",
    "- 文章が長くなると表現力が足りなくなる\n",
    "\n",
    "### Attention (注意機構) (Bahdanau et al., 2015)\n",
    "翻訳先の各単語を選択する際に、翻訳元の文中の各単語の隠れ状態を利用\n",
    "\n",
    "### Attentionは何をしているのか\n",
    "辞書オブジェクトとみなすことができる\n",
    "\n",
    "<img src=\"./image/5_1_transformer.png\">\n",
    "- エンコーダ\n",
    "インプットに位置情報が付加される<br>\n",
    "アテンションに掛けられる<br>\n",
    "正則化をかけられる<br>\n",
    "フィードフォワードで次元求める<br>\n",
    "\n",
    "- デコーダ\n",
    "未来の情報を見ないようにマスク<br>\n",
    "エンコーダ側の情報と一緒にアテンションに流す<br>\n",
    "ソフトマックスに掛ける<br>\n",
    "\n",
    "\n",
    "#### Attentionを可視化すると言語構造をとらえていることが多い\n"
   ]
  },
  {
   "cell_type": "code",
   "execution_count": null,
   "metadata": {},
   "outputs": [],
   "source": []
  }
 ],
 "metadata": {
  "kernelspec": {
   "display_name": "Python 3",
   "language": "python",
   "name": "python3"
  },
  "language_info": {
   "codemirror_mode": {
    "name": "ipython",
    "version": 3
   },
   "file_extension": ".py",
   "mimetype": "text/x-python",
   "name": "python",
   "nbconvert_exporter": "python",
   "pygments_lexer": "ipython3",
   "version": "3.6.5"
  }
 },
 "nbformat": 4,
 "nbformat_minor": 2
}
