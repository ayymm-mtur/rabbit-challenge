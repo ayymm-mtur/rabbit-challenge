{
 "cells": [
  {
   "cell_type": "markdown",
   "metadata": {},
   "source": [
    "# 3. 出力層\n",
    "\n",
    "## 3-1. 誤差関数\n",
    "出力層は人間の欲しい値を出力する。分類の問題であれば出力は各クラスごとの確率になる。\n",
    "出力層が定義できると誤差関数を定義することができる。\n",
    "誤差関数はニューラルネットワークを学習させるものである。\n",
    "学習させるには訓練データが必要である。\n",
    "訓練データは入力するデータとそのデータが何を意味するのかという情報（ラベル）が必要である。\n",
    "ニューラルネットワークに入力データを通して得られる出力結果が、ラベルからどの程度違うのかというフィードバックが誤差関数である。\n",
    "\n",
    "$$\n",
    "誤差関数：E(\\omega) = \\frac{1}{2}\\|y-d\\|\n",
    "$$\n",
    "\n",
    "## 3-2. 出力層の活性化関数\n",
    "出力層と中間層では目的が異なるため、異なる活性化関数を用いる。\n",
    "回帰では恒等写像、二値分類ではシグモイド関数、多クラス分類ではソフトマックス関数を用いる。"
   ]
  },
  {
   "cell_type": "markdown",
   "metadata": {},
   "source": [
    "## 確認テスト\n",
    "### Q. なぜ、引き算ではなく２乗するのか？\n",
    "### A. \n",
    "誤差は正と負の値をとりうるため、単に誤差を引き算していくだけでは誤差同士が打ち消しあってしまう可能性がある。\n",
    "誤差を２乗することで正の値になるので、互いに打ち消しあうのを防ぐことができる。\n",
    "\n",
    "### Q. 下式の1/2は何を表している？\n",
    "$$\n",
    "E(\\omega) = \\frac{1}{2}\\|y-d\\|\n",
    "$$\n",
    "### A. \n",
    "誤差関数は変数の２乗の項があるため、微分した際に変数の係数が１になるように調節する役割がをしている。\n",
    "\n",
    "### Q. ソフトマックス関数のソースコードを示し、一行づつ処理の説明をせよ。\n",
    "\n",
    "### A.\n",
    "def softmax(x):​\n",
    "\n",
    "    次元数が二の場合​\n",
    "    if x.ndim == 2:​\n",
    "\n",
    "        xを転置する​\n",
    "        x = x.T​\n",
    "\n",
    "        xから各行の最大値からなる行列を差し引く​\n",
    "        x = x - np.max(x, axis=0)​\n",
    "\n",
    "        ②③：各xに関する指数関数を各列方向の指数関数の和で割る​\n",
    "        y = np.exp(x) / np.sum(np.exp(x), axis=0)​\n",
    "\n",
    "        yを転置して呼び出し元に戻る\n",
    "        return y.T\n",
    "        \n",
    "    x = x - np.max(x) # オーバーフロー対策​\n",
    "    \n",
    "    ②③：各xに関する指数関数を指数関数の和で割る​\n",
    "    return np.exp(x) / np.sum(np.exp(x))\n",
    "    \n",
    "### Q. 交差エントロピーの数式に該当するソースコードを示し、 一行づつ処理の説明をせよ\n",
    "### A.\n",
    "def cross_entropy_error(d, y):\n",
    "    入力データが１次元の場合、一列に整列させる\n",
    "    if y.ndim == 1:\n",
    "        d = d.reshape(1, d.size)\n",
    "        y = y.reshape(1, y.size)\n",
    "        \n",
    "    教師データがone-hot-vectorの場合、正解ラベルのインデックスに変換\n",
    "    if d.size == y.size:\n",
    "        d = d.argmax(axis=1)     \n",
    "        batch_size = y.shape[0]\n",
    "    引数が0にならないように1e-7を加えている。\n",
    "    return -np.sum(np.log(y[np.arange(batch_size), d] + 1e-7)) / batch_size"
   ]
  },
  {
   "cell_type": "code",
   "execution_count": null,
   "metadata": {},
   "outputs": [],
   "source": []
  },
  {
   "cell_type": "code",
   "execution_count": null,
   "metadata": {},
   "outputs": [],
   "source": []
  }
 ],
 "metadata": {
  "kernelspec": {
   "display_name": "Python 3",
   "language": "python",
   "name": "python3"
  },
  "language_info": {
   "codemirror_mode": {
    "name": "ipython",
    "version": 3
   },
   "file_extension": ".py",
   "mimetype": "text/x-python",
   "name": "python",
   "nbconvert_exporter": "python",
   "pygments_lexer": "ipython3",
   "version": "3.6.5"
  }
 },
 "nbformat": 4,
 "nbformat_minor": 2
}
