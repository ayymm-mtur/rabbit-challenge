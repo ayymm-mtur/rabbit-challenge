{
 "cells": [
  {
   "cell_type": "markdown",
   "metadata": {},
   "source": [
    "# 1. 入植層から中間層\n",
    "\n",
    "入力層はニューラルネットワークにおいて数値入力を受け取る層である。下図において入力を受け取っている一つ一つの部分（x1など）をノードという。重みはそれぞれの入力がどれだけ寄与するのかということを示すパラメータである。入力全体をずらす際にはバイアスを用いる。ニューラルネットワークでは重みとバイアスを学習により最適化していく。最終的な出力（次の層への入力）は活性化関数により得られる。。\n",
    "\n",
    "<img src=\"./image/1-1.png\">\n"
   ]
  },
  {
   "cell_type": "markdown",
   "metadata": {},
   "source": [
    "## 確認テスト\n",
    "### Q. ディープラーニングは結局何をしようとしているのか？また、どの値の最適化が目的か？\n",
    "A. いくつかの層からなるニューラルネットワークのパラメータを最適化して、入力から最適な出力を得られるようにする。\n",
    "重み、バイアスを最適化するのが目的である。\n",
    "\n",
    "### Q. 次のネットワークを紙に書け\n",
    "### 入力：２ノード３層　中間：３ノード２層　出力：１ノード１層\n",
    "A.\n",
    "<img src=\"./image/test-2.jpg\">\n",
    "\n",
    "### Q.図式に動物分類の例を入れてみよう\n",
    "A.\n",
    "<img src=\"./image/test-3.jpg\">\n",
    "\n",
    "### Q.数式をPythonで書け\n",
    "A.\n",
    "<img src=\"./image/test-4.png\">"
   ]
  },
  {
   "cell_type": "code",
   "execution_count": null,
   "metadata": {},
   "outputs": [],
   "source": []
  }
 ],
 "metadata": {
  "kernelspec": {
   "display_name": "Python 3",
   "language": "python",
   "name": "python3"
  },
  "language_info": {
   "codemirror_mode": {
    "name": "ipython",
    "version": 3
   },
   "file_extension": ".py",
   "mimetype": "text/x-python",
   "name": "python",
   "nbconvert_exporter": "python",
   "pygments_lexer": "ipython3",
   "version": "3.6.5"
  }
 },
 "nbformat": 4,
 "nbformat_minor": 2
}
