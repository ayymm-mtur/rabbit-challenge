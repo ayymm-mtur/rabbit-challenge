{
 "cells": [
  {
   "cell_type": "markdown",
   "metadata": {},
   "source": [
    "# 5. 誤差逆伝番法\n",
    "誤差をどのようにして計算するかというとき、以下の数値微分の方法がある。\n",
    "$$\n",
    "\\frac{\\partial E_n}{\\partial \\omega_n} \\simeq \\frac{E(w_m + h)-E(w_m - h)}{h}\n",
    "$$\n",
    "しかし、この方法では各$w$それぞれについて$E(w+h)$と$E(w-h)$を計算する必要があり、非常に時間がかかる。\n",
    "<br>\n",
    "そこでディープラーニングでは誤差逆伝播法により誤差の微分を計算している。\n",
    "<br>\n",
    "微分の連鎖率により、前のノードまでの微分の結果を用いて微分を求めることができる。\n",
    "\n",
    "<img src=\"./image/test5-1.png\">\n",
    "\n",
    "## 確認テスト\n",
    "### Q. 誤差 逆伝播法では不要な再帰的処理をさけることができる。既に行った計算結果を保持しているソースコードを抽出せよ。\n",
    "### A.\n",
    "    出力層でのデルタ\n",
    "    delta2 = functions.d_mean_squared_error(d, y)\n",
    "### Q.  二つの空欄に該当するソースコードを探せ\n",
    "### A.\n",
    "$\\frac{\\partial E}{\\partial y} \\frac{\\partial y}{\\partial u}$\n",
    "<br>\n",
    "delta2 = functions.d_mean_squared_error(d, y)\n",
    "\n",
    "\n",
    "$\\frac{\\partial E}{\\partial y} \\frac{\\partial y}{\\partial u} \\frac{\\partial u}{\\partial w_{ji}^{(2)}}$\n",
    "<br>\n",
    "grad['W2'] = np.dot(z1.T, delta2)"
   ]
  },
  {
   "cell_type": "code",
   "execution_count": null,
   "metadata": {},
   "outputs": [],
   "source": []
  }
 ],
 "metadata": {
  "kernelspec": {
   "display_name": "Python 3",
   "language": "python",
   "name": "python3"
  },
  "language_info": {
   "codemirror_mode": {
    "name": "ipython",
    "version": 3
   },
   "file_extension": ".py",
   "mimetype": "text/x-python",
   "name": "python",
   "nbconvert_exporter": "python",
   "pygments_lexer": "ipython3",
   "version": "3.6.5"
  }
 },
 "nbformat": 4,
 "nbformat_minor": 2
}
