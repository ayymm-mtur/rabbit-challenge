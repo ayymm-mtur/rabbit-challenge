{
 "cells": [
  {
   "cell_type": "markdown",
   "metadata": {},
   "source": [
    "# 4. 勾配降下法\n",
    "\n",
    "### 4-1. 勾配降下法\n",
    "$$\n",
    "w^{t+1} = w^{t} - \\epsilon \\Delta E\\\\\n",
    "\\epsilon \\Delta E = \\frac{\\partial E}{\\partial w} = \\left[\\frac{\\partial E_1}{\\partial w_1} \\cdots \\frac{\\partial E_i}{\\partial w_i}  \\right]\n",
    "$$\n",
    "\n",
    "前回のパラメータ$w^t$がどれだけ間違っていたというフィードバック$\\epsilon \\Delta E$から次のパラメータ$w^{t+1}$を決める。\n",
    "<br>\n",
    "学習率$\\epsilon$の選び方によって、学習がスムーズに進むかが決まる。$\\epsilon$が大きすぎると発散し、小さすぎると局所解に収束してしまう。\n",
    "<br>\n",
    "学習率の決定の手法としてAdamが良く使われている。\n",
    "\n",
    "### 4-2. 確率的勾配降下法\n",
    "$$\n",
    "w^{t+1} = w^{t} - \\epsilon \\Delta E_n\n",
    "$$\n",
    "確率的勾配降下法(SDG)ではサンプルをランダムに抽出して学習を行う。\n",
    "<br>\n",
    "メリットとしては計算コストを軽減できる、局所解に収束するリスクを軽減できるなどある。\n",
    "<br>\n",
    "しかし、勾配が最小値の方向を向いていない場合は学習に時間がかかるという欠点がある。\n",
    "\n",
    "### 4-3.  ミニバッチ勾配降下法\n",
    "$$\n",
    "w^{t+1} = w^{t} - \\epsilon \\Delta E_t\\\\\n",
    "E_t = \\frac{1}{N_t} \\sum_{n \\in D_t} E_n\\\\\n",
    "N_t = |D_t|\n",
    "$$\n",
    "ミニバッチ勾配降下法はオンライン学習の方法をバッチ学習に取り入れた様なもの。\n",
    "<br>\n",
    "準備したデータをランダムなデータの集合$D_t$に分割して学習させる。\n",
    "<br>\n",
    "並列化により、データの集合を並行して学習させることができる。\n",
    "<br>\n",
    "モデルを作る際に一般的に使われている手法である。"
   ]
  },
  {
   "cell_type": "markdown",
   "metadata": {},
   "source": [
    "## 確認テスト\n",
    "### Q. 以下の数式に該当するソースコードを探してみよう。\n",
    "\n",
    "### A. \n",
    "$\n",
    "w^{t+1} = w^{t} - \\epsilon \\Delta E\\\\\n",
    "$\n",
    "<img src=\"./image/test4-1.png\">\n",
    "$\n",
    "\\epsilon \\Delta E = \\frac{\\partial E}{\\partial w} = \\left[\\frac{\\partial E_1}{\\partial w_1} \\cdots \\frac{\\partial E_i}{\\partial w_i}  \\right]\n",
    "$\n",
    "<img src=\"./image/test4-2.png\">\n",
    "\n",
    "### Q. オンライン学習とは何か\n",
    "### A. \n",
    "あらかじめデータを揃えて学習するのではなく、データが与えられるたびにその都度学習させる方法。\n",
    "<br>\n",
    "例えばIoTなどでリアルタイムにデータが集まってくる場合などに用いられる。\n",
    "\n",
    "### Q. 式の意味を図に書いて説明せよ\n",
    "$$\n",
    "w^{t+1} = w^{t} - \\epsilon \\Delta E_t\\\\\n",
    "$$\n",
    "### A.\n",
    "<img src=\"./image/test4-3.png\">"
   ]
  },
  {
   "cell_type": "code",
   "execution_count": null,
   "metadata": {},
   "outputs": [],
   "source": []
  }
 ],
 "metadata": {
  "kernelspec": {
   "display_name": "Python 3",
   "language": "python",
   "name": "python3"
  },
  "language_info": {
   "codemirror_mode": {
    "name": "ipython",
    "version": 3
   },
   "file_extension": ".py",
   "mimetype": "text/x-python",
   "name": "python",
   "nbconvert_exporter": "python",
   "pygments_lexer": "ipython3",
   "version": "3.6.5"
  }
 },
 "nbformat": 4,
 "nbformat_minor": 2
}
