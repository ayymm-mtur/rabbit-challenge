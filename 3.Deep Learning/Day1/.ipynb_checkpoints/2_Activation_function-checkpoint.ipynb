{
 "cells": [
  {
   "cell_type": "markdown",
   "metadata": {},
   "source": [
    "# 2. 活性化関数\n",
    "ニューラルネットワークにおいて、活性化関数とは次の層への出力の大きさを決める非線形関数である。<br>\n",
    "活性化関数をと通すことにより前の層からの出力を次の層へ出力する、しない、または強弱をつけて次の層へと出力するなどする。<br>\n",
    "入力（ベクトル）と重み（行列）の処理が線形なのに対し、活性化関数が非線形になることで、ニューラルネットワークにバラエティを持たせる。<br>\n",
    "中間層と出力層では用いられる活性化関数が異なる。<br>\n",
    "\n",
    "### 2.1 ステップ関数\n",
    "$$\n",
    "f(x) = \\left\\{\n",
    "\\begin{array}{ll}\n",
    "1 & (x \\geq 0)\\\\\n",
    "0 & (x < 0)\n",
    "\\end{array}\n",
    "\\right.\n",
    "$$\n",
    "\n",
    "### 2.2 シグモイド関数\n",
    "ステップ関数ではON/OFFしかなかったが、0から1までの間の値をとることができる。\n",
    "勾配消失問題を引き起こしてしまう。\n",
    "$$\n",
    "f(x) = \\frac{1}{1+e^{-x}}\n",
    "$$\n",
    "\n",
    "### 2.3 RELU関数\n",
    "勾配消失問題をある程度解消できる。\n",
    "スパース化に貢献する。\n",
    "$$\n",
    "f(x) = \\left\\{\n",
    "\\begin{array}{ll}\n",
    "x & (x \\geq 0)\\\\\n",
    "0 & (x < 0)\n",
    "\\end{array}\n",
    "\\right.\n",
    "$$"
   ]
  },
  {
   "cell_type": "markdown",
   "metadata": {},
   "source": [
    "## 確認テスト\n",
    "### Q. 線形と非線形の違いを図に書いて説明せよ\n",
    "### A.\n",
    "<img src=\"./image/test2-1.png\">\n",
    "\n",
    "### Q. 配布されたソースコードから活性化関数の個所を抜き出す\n",
    "<img src=\"./image/test2-2.png\">"
   ]
  },
  {
   "cell_type": "code",
   "execution_count": null,
   "metadata": {},
   "outputs": [],
   "source": []
  }
 ],
 "metadata": {
  "kernelspec": {
   "display_name": "Python 3",
   "language": "python",
   "name": "python3"
  },
  "language_info": {
   "codemirror_mode": {
    "name": "ipython",
    "version": 3
   },
   "file_extension": ".py",
   "mimetype": "text/x-python",
   "name": "python",
   "nbconvert_exporter": "python",
   "pygments_lexer": "ipython3",
   "version": "3.6.5"
  }
 },
 "nbformat": 4,
 "nbformat_minor": 2
}
