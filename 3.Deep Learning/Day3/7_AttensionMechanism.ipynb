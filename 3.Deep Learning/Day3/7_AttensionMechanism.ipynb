{
 "cells": [
  {
   "cell_type": "markdown",
   "metadata": {},
   "source": [
    "# 7. AttentionMechanism\n",
    "\n",
    "seq2seqの問題は長い文章への対応が難しいことである。\n",
    "長い文章でも、短い文章でも固定次元ベクトルの中に入力しなければならない\n",
    "\n",
    "文章が長くなるほどそのシーケンスの内部表現の次元も大きくなっていく仕組みが必要になる\n",
    "\n",
    "Attention Mechanismは「入力と出力のどの単語が関連しているのか」の関連度を学習する仕組み\n",
    "\n",
    "<img src=\"./image/7_attention.png\">\n",
    "\n",
    "## 確認テスト\n",
    "### Q.  RNNとword2vec、seq2seqとAttentionの違いを簡潔に述べよ。\n",
    "\n",
    "### A.\n",
    "RNNは時系列データを処理することに適したNN<br>\n",
    "word2vecは単語の分散表現ベクトルを得る手法<br>\n",
    "seq2seqは一つの時系列データから別の時系列データを得るNN<br>\n",
    "Attentionは時系列データの中身に対して、それぞれの関連性に重みをつける手法<br>\n",
    "\n",
    "### Q. seq2seqとHRED、HREDとVHREDの違いを簡潔に述べよ。\n",
    "### A.\n",
    "word2vecは単語の分散表現ベクトルを得る手法<br>\n",
    "seq2seqは一つの時系列データから別の時系列データを得るNN<br>\n",
    "HREDはseq2seqにそれまでの文脈の意味をくみ取った文のエンコード、デコードができるもの<br>\n",
    "VHREDは当たり障りのない出力しか出せないHREDを改良したもの<br>"
   ]
  },
  {
   "cell_type": "code",
   "execution_count": null,
   "metadata": {},
   "outputs": [],
   "source": []
  }
 ],
 "metadata": {
  "kernelspec": {
   "display_name": "Python 3",
   "language": "python",
   "name": "python3"
  },
  "language_info": {
   "codemirror_mode": {
    "name": "ipython",
    "version": 3
   },
   "file_extension": ".py",
   "mimetype": "text/x-python",
   "name": "python",
   "nbconvert_exporter": "python",
   "pygments_lexer": "ipython3",
   "version": "3.6.5"
  }
 },
 "nbformat": 4,
 "nbformat_minor": 2
}
