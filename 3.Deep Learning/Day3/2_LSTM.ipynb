{
 "cells": [
  {
   "cell_type": "markdown",
   "metadata": {},
   "source": [
    "# 2. LSTM\n",
    "RNNの課題は、時系列を遡るほど勾配が消失することであり、これにより長い時系列の学習が困難になる。\n",
    "これを解決するものがLSTMである。\n",
    "\n",
    "## 勾配爆発\n",
    "勾配が層を逆伝播するごとに指数関数的に大きくなってしまうこと。\n",
    "\n",
    "## CEC\n",
    "勾配消失及び勾配爆発の解決方法として、勾配が1であれば解決できる。<br>\n",
    "入力データについて時間依存度に関係なく重みが一定であることは、学習しないということ。\n",
    "$$\n",
    "\\delta^{t-z-1} = \\delta^{t-z} \\left\\{ Wf^\\prime(u^{t-z-1}) \\right\\} = 1\\\\\n",
    "\\frac{\\partial E}{\\partial c^{t-1}} = \\frac{\\partial E}{\\partial c^t} \\frac{\\partial c}{\\partial c^{t-1}}\n",
    "= \\frac{\\partial E}{\\partial c^t} \\frac{\\partial}{\\partial c^{t-1}} \\{ a^t - c^{t-1} \\} = \\frac{\\partial E}{\\partial c^t}\n",
    "$$\n",
    "<img src=\"./image/2_2_cec.png\">\n",
    "\n",
    "## 入力ゲートと出力ゲート\n",
    "CEC自体は学習しないので、それをどう補うか。<br>\n",
    "入力・出力ゲートを追加することで、それぞれのゲートへの入力値の重みを重み行列W,Uで可変可能とする。\n",
    "\n",
    "## 忘却ゲート\n",
    "CECでは過去の情報が保管され続ける<br>\n",
    "課題：過去の情報がいらなくなった場合でも、その情報を捨てることができない<br>\n",
    "解決策：情報がいらなくなった時点で、捨てる機能が必要<br>\n",
    "→忘却ゲート\n",
    "\n",
    "## 覗き穴結合\n",
    "CECの保存されている過去の情報を任意のタイミングで他のノードに伝播させたり、逆に忘却させたりする。\n",
    "\n",
    "\n",
    "## 確認テスト\n",
    "### Q.シグモイド関数を微分した時、入力値が0の時に最大値をとる。その値はいくらか？\n",
    "### A. 0.25\n",
    "\n",
    "### Q. 以下の文章をLSTMに入力し空欄に当てはまる単語を予測したいとする。文中の「とても」という言葉は空欄の予測においてなくなっても影響を及ぼさないと考えられる。このような場合、どのゲートが作用すると考えられるか。\n",
    "### 「映画おもしろかったね。ところで、とてもお腹が空いたから何か___。」\n",
    "\n",
    "### A. 忘却ゲート\n",
    "\n",
    "## 演習チャレンジ\n",
    "<img src=\"./image/2_1_challenge.png\">\n",
    "### A. (1)\n",
    "\n",
    "<img src=\"./image/2_3_challenge.png\">\n",
    "### A. (3)"
   ]
  },
  {
   "cell_type": "code",
   "execution_count": null,
   "metadata": {},
   "outputs": [],
   "source": []
  }
 ],
 "metadata": {
  "kernelspec": {
   "display_name": "Python 3",
   "language": "python",
   "name": "python3"
  },
  "language_info": {
   "codemirror_mode": {
    "name": "ipython",
    "version": 3
   },
   "file_extension": ".py",
   "mimetype": "text/x-python",
   "name": "python",
   "nbconvert_exporter": "python",
   "pygments_lexer": "ipython3",
   "version": "3.6.5"
  }
 },
 "nbformat": 4,
 "nbformat_minor": 2
}
