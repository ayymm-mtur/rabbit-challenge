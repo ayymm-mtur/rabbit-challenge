{
 "cells": [
  {
   "cell_type": "markdown",
   "metadata": {},
   "source": [
    "# 3. GRU\n",
    "\n",
    "LSTMではパラメータが多く、計算負荷が高くなるという課題があった。<br>\n",
    "パラメータの数をおとして、LSTMと同等の精度を実現しようとするのがGRU\n",
    "\n",
    "LSTMと比較して、CEC、入力ゲート、忘却ゲートがいなくなり、リセットゲートと更新ゲートがある。\n",
    "<img src=\"./image/3_1_GRU.png\">\n",
    "赤枠で隠れ層に情報が蓄積される。\\\\\n",
    "$h(t-1)$は前回の出力。\n",
    "\n",
    "## 確認テスト\n",
    "### Q. LSTMとCECが抱える課題について、それぞれ簡潔に述べよ。\n",
    "### A. LSTMはパラメータが多く、計算負荷が高くなることがある。CECは学習能力を持たない。\n",
    "\n",
    "### Q. LSTMとGRUの違いを答えよ\n",
    "### A. LSTMではCECを導入することで学習を抑制し、入力ゲートと出力ゲートを導入することで学習能力を持たせている。さらに忘却ゲートを用いることで学習に不要な情報を捨てることができる。GRUはLSTMと比べシンプルな構造をしており、更新ゲートとリセットゲートを持つ。GRUはLSTMと同等の精度を発揮できる。"
   ]
  },
  {
   "cell_type": "code",
   "execution_count": null,
   "metadata": {},
   "outputs": [],
   "source": []
  }
 ],
 "metadata": {
  "kernelspec": {
   "display_name": "Python 3",
   "language": "python",
   "name": "python3"
  },
  "language_info": {
   "codemirror_mode": {
    "name": "ipython",
    "version": 3
   },
   "file_extension": ".py",
   "mimetype": "text/x-python",
   "name": "python",
   "nbconvert_exporter": "python",
   "pygments_lexer": "ipython3",
   "version": "3.6.5"
  }
 },
 "nbformat": 4,
 "nbformat_minor": 2
}
