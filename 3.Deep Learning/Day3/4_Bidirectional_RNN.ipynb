{
 "cells": [
  {
   "cell_type": "markdown",
   "metadata": {},
   "source": [
    "# 4. 双方向RNN\n",
    "\n",
    "過去の情報だけでなく、未来の情報を加味することで制度を向上させる。\n",
    "文章の推敲や、機械翻訳等で用いられている。\n",
    "\n",
    "<img src=\"./image/4_1_RNN.png\">\n",
    "\n",
    "## 演習チャレンジ\n",
    "<img src=\"./image/4_2_challenge.png\">\n",
    "### A. (4)"
   ]
  },
  {
   "cell_type": "code",
   "execution_count": null,
   "metadata": {},
   "outputs": [],
   "source": []
  }
 ],
 "metadata": {
  "kernelspec": {
   "display_name": "Python 3",
   "language": "python",
   "name": "python3"
  },
  "language_info": {
   "codemirror_mode": {
    "name": "ipython",
    "version": 3
   },
   "file_extension": ".py",
   "mimetype": "text/x-python",
   "name": "python",
   "nbconvert_exporter": "python",
   "pygments_lexer": "ipython3",
   "version": "3.6.5"
  }
 },
 "nbformat": 4,
 "nbformat_minor": 2
}
