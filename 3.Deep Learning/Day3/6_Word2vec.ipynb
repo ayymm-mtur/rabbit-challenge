{
 "cells": [
  {
   "cell_type": "markdown",
   "metadata": {},
   "source": [
    "# 6. word2vec\n",
    "RNNでは単語の様な可変長の文字列をNNに与えることができない。\n",
    "そのため固定長式で単語を表現する必要がある。\n",
    "embedding表現を得るための手法。\n",
    "\n",
    "学種データからボキャブラリを作成<br>\n",
    "例）<br>\n",
    "\n",
    "I want to eat apples. I like apples<br>\n",
    "→{apples,eat,I,like,to,want}<br>\n",
    "\n",
    "ある単語を入力する場合は、その単語の数字だけが1のone-hotベクトルが入力される\n",
    "例）applesが入力の場合<br>\n",
    "{1,0,0,0,0,0,0}\n",
    "\n",
    "<br>\n",
    "大規模データの分散表現の学習が、現実的な計算速度とメモリ量で実現可能にした"
   ]
  },
  {
   "cell_type": "code",
   "execution_count": null,
   "metadata": {},
   "outputs": [],
   "source": []
  }
 ],
 "metadata": {
  "kernelspec": {
   "display_name": "Python 3",
   "language": "python",
   "name": "python3"
  },
  "language_info": {
   "codemirror_mode": {
    "name": "ipython",
    "version": 3
   },
   "file_extension": ".py",
   "mimetype": "text/x-python",
   "name": "python",
   "nbconvert_exporter": "python",
   "pygments_lexer": "ipython3",
   "version": "3.6.5"
  }
 },
 "nbformat": 4,
 "nbformat_minor": 2
}
