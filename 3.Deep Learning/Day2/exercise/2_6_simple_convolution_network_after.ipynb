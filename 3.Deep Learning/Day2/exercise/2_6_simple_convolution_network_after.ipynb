{
  "nbformat": 4,
  "nbformat_minor": 0,
  "metadata": {
    "kernelspec": {
      "name": "python3",
      "display_name": "Python 3"
    },
    "language_info": {
      "codemirror_mode": {
        "name": "ipython",
        "version": 3
      },
      "file_extension": ".py",
      "mimetype": "text/x-python",
      "name": "python",
      "nbconvert_exporter": "python",
      "pygments_lexer": "ipython3",
      "version": "3.6.3"
    },
    "colab": {
      "name": "2_6_simple_convolution_network_after.ipynb",
      "provenance": [],
      "collapsed_sections": [],
      "toc_visible": true
    },
    "accelerator": "GPU"
  },
  "cells": [
    {
      "cell_type": "markdown",
      "metadata": {
        "id": "8cNl2QA_Rnv5"
      },
      "source": [
        "# 準備"
      ]
    },
    {
      "cell_type": "markdown",
      "metadata": {
        "id": "YkwjN1jNVAYy"
      },
      "source": [
        "## Googleドライブのマウント"
      ]
    },
    {
      "cell_type": "code",
      "metadata": {
        "id": "pvFXpiH3EVC1",
        "colab": {
          "base_uri": "https://localhost:8080/"
        },
        "outputId": "e9a60872-8db2-4c5e-97a1-34f521c19720"
      },
      "source": [
        "from google.colab import drive\n",
        "drive.mount('/content/drive')"
      ],
      "execution_count": null,
      "outputs": [
        {
          "output_type": "stream",
          "text": [
            "Mounted at /content/drive\n"
          ],
          "name": "stdout"
        }
      ]
    },
    {
      "cell_type": "markdown",
      "metadata": {
        "id": "3Ub7RYdeY6pK"
      },
      "source": [
        "## sys.pathの設定"
      ]
    },
    {
      "cell_type": "markdown",
      "metadata": {
        "id": "oql7L19rEsWi"
      },
      "source": [
        "以下では，Googleドライブのマイドライブ直下にDNN_codeフォルダを置くことを仮定しています．必要に応じて，パスを変更してください．"
      ]
    },
    {
      "cell_type": "code",
      "metadata": {
        "id": "7Ic2JzkvFX59"
      },
      "source": [
        "import sys\n",
        "sys.path.append('/content/drive/My Drive/Colab Notebooks/DNN_code_colab_lesson_1_2')"
      ],
      "execution_count": 30,
      "outputs": []
    },
    {
      "cell_type": "markdown",
      "metadata": {
        "id": "pLzd0C0eqyF5"
      },
      "source": [
        "# simple convolution network"
      ]
    },
    {
      "cell_type": "markdown",
      "metadata": {
        "id": "P42cqedsqyF6"
      },
      "source": [
        "## image to column"
      ]
    },
    {
      "cell_type": "code",
      "metadata": {
        "id": "goQlh8SEqyF7"
      },
      "source": [
        "import pickle\n",
        "import numpy as np\n",
        "from collections import OrderedDict\n",
        "from common import layers\n",
        "from common import optimizer\n",
        "from data.mnist import load_mnist\n",
        "import matplotlib.pyplot as plt\n",
        "\n",
        "# 画像データを２次元配列に変換\n",
        "'''\n",
        "input_data: 入力値\n",
        "filter_h: フィルターの高さ\n",
        "filter_w: フィルターの横幅\n",
        "stride: ストライド\n",
        "pad: パディング\n",
        "'''\n",
        "def im2col(input_data, filter_h, filter_w, stride=1, pad=0):\n",
        "    # N: number, C: channel, H: height, W: width\n",
        "    N, C, H, W = input_data.shape\n",
        "    # 切り捨て除算\n",
        "    out_h = (H + 2 * pad - filter_h)//stride + 1\n",
        "    out_w = (W + 2 * pad - filter_w)//stride + 1\n",
        "\n",
        "    img = np.pad(input_data, [(0,0), (0,0), (pad, pad), (pad, pad)], 'constant')\n",
        "    col = np.zeros((N, C, filter_h, filter_w, out_h, out_w))\n",
        "\n",
        "    for y in range(filter_h):\n",
        "        y_max = y + stride * out_h\n",
        "        for x in range(filter_w):\n",
        "            x_max = x + stride * out_w\n",
        "            col[:, :, y, x, :, :] = img[:, :, y:y_max:stride, x:x_max:stride]\n",
        "\n",
        "    col = col.transpose(0, 4, 5, 1, 2, 3) # (N, C, filter_h, filter_w, out_h, out_w) -> (N, filter_w, out_h, out_w, C, filter_h)    \n",
        "    \n",
        "    col = col.reshape(N * out_h * out_w, -1)\n",
        "    return col"
      ],
      "execution_count": 31,
      "outputs": []
    },
    {
      "cell_type": "markdown",
      "metadata": {
        "id": "IN-wYqIkqyF_"
      },
      "source": [
        "----------------------------------------------------------------------------------------------------------------------------------------------------------------------------\n",
        "----------------------------------------------------------------------------------------------------------------------------------------------------------------------------"
      ]
    },
    {
      "cell_type": "code",
      "metadata": {
        "id": "hgjmTNtTqyF_",
        "colab": {
          "base_uri": "https://localhost:8080/"
        },
        "outputId": "a250d8f7-01e1-4c7c-e93b-fd942ab83b47"
      },
      "source": [
        "# im2colの処理確認\n",
        "input_data = np.random.rand(2, 1, 4, 4)*100//1 # number, channel, height, widthを表す\n",
        "print('========== input_data ===========\\n', input_data)\n",
        "print('==============================')\n",
        "filter_h = 3\n",
        "filter_w = 3\n",
        "stride = 1\n",
        "pad = 0\n",
        "col = im2col(input_data, filter_h=filter_h, filter_w=filter_w, stride=stride, pad=pad)\n",
        "print('============= col ==============\\n', col)\n",
        "print('==============================')"
      ],
      "execution_count": null,
      "outputs": [
        {
          "output_type": "stream",
          "text": [
            "========== input_data ===========\n",
            " [[[[53. 87. 57. 44.]\n",
            "   [78. 96.  6. 13.]\n",
            "   [33. 67. 90. 16.]\n",
            "   [13.  6. 46. 93.]]]\n",
            "\n",
            "\n",
            " [[[ 2. 56. 43. 79.]\n",
            "   [77. 38. 30. 15.]\n",
            "   [65. 90. 50. 78.]\n",
            "   [23. 70. 12. 80.]]]]\n",
            "==============================\n",
            "============= col ==============\n",
            " [[53. 87. 57. 78. 96.  6. 33. 67. 90.]\n",
            " [87. 57. 44. 96.  6. 13. 67. 90. 16.]\n",
            " [78. 96.  6. 33. 67. 90. 13.  6. 46.]\n",
            " [96.  6. 13. 67. 90. 16.  6. 46. 93.]\n",
            " [ 2. 56. 43. 77. 38. 30. 65. 90. 50.]\n",
            " [56. 43. 79. 38. 30. 15. 90. 50. 78.]\n",
            " [77. 38. 30. 65. 90. 50. 23. 70. 12.]\n",
            " [38. 30. 15. 90. 50. 78. 70. 12. 80.]]\n",
            "==============================\n"
          ],
          "name": "stdout"
        }
      ]
    },
    {
      "cell_type": "markdown",
      "metadata": {
        "id": "E-sVXZaDUzh6"
      },
      "source": [
        "## [try] im2colの処理を確認しよう\n",
        "・関数内でtransposeの処理をしている行をコメントアウトして下のコードを実行してみよう<br>"
      ]
    },
    {
      "cell_type": "code",
      "metadata": {
        "id": "gCeoN3qhU1bo"
      },
      "source": [
        "# 画像データを２次元配列に変換\n",
        "'''\n",
        "input_data: 入力値\n",
        "filter_h: フィルターの高さ\n",
        "filter_w: フィルターの横幅\n",
        "stride: ストライド\n",
        "pad: パディング\n",
        "'''\n",
        "def im2col_exercise(input_data, filter_h, filter_w, stride=1, pad=0):\n",
        "    # N: number, C: channel, H: height, W: width\n",
        "    N, C, H, W = input_data.shape\n",
        "    # 切り捨て除算\n",
        "    out_h = (H + 2 * pad - filter_h)//stride + 1\n",
        "    out_w = (W + 2 * pad - filter_w)//stride + 1\n",
        "\n",
        "    img = np.pad(input_data, [(0,0), (0,0), (pad, pad), (pad, pad)], 'constant')\n",
        "    col = np.zeros((N, C, filter_h, filter_w, out_h, out_w))\n",
        "\n",
        "    for y in range(filter_h):\n",
        "        y_max = y + stride * out_h\n",
        "        for x in range(filter_w):\n",
        "            x_max = x + stride * out_w\n",
        "            col[:, :, y, x, :, :] = img[:, :, y:y_max:stride, x:x_max:stride]\n",
        "\n",
        "    #col = col.transpose(0, 4, 5, 1, 2, 3) # (N, C, filter_h, filter_w, out_h, out_w) -> (N, filter_w, out_h, out_w, C, filter_h)    \n",
        "    \n",
        "    col = col.reshape(N * out_h * out_w, -1)\n",
        "    return col\n"
      ],
      "execution_count": null,
      "outputs": []
    },
    {
      "cell_type": "code",
      "metadata": {
        "colab": {
          "base_uri": "https://localhost:8080/"
        },
        "id": "NvT_qxnjWnx_",
        "outputId": "cbc4b0d7-ff71-4219-820b-33f06615c3ea"
      },
      "source": [
        "\n",
        "# im2colの処理確認\n",
        "input_data_exercise = np.random.rand(2, 1, 4, 4)*100//1 # number, channel, height, widthを表す\n",
        "print('========== input_data ===========\\n', input_data_exercise)\n",
        "print('==============================')\n",
        "filter_h = 3\n",
        "filter_w = 3\n",
        "stride = 1\n",
        "pad = 0\n",
        "col_exercise = im2col_exercise(input_data_exercise, filter_h=filter_h, filter_w=filter_w, stride=stride, pad=pad)\n",
        "print('============= col ==============\\n', col_exercise)\n",
        "print('==============================')"
      ],
      "execution_count": null,
      "outputs": [
        {
          "output_type": "stream",
          "text": [
            "========== input_data ===========\n",
            " [[[[45. 65. 24. 38.]\n",
            "   [72.  0.  0. 77.]\n",
            "   [24.  5. 65.  9.]\n",
            "   [55. 72. 10. 71.]]]\n",
            "\n",
            "\n",
            " [[[21. 83. 95. 20.]\n",
            "   [53. 77. 81. 44.]\n",
            "   [85. 98. 59. 91.]\n",
            "   [80. 29. 91. 94.]]]]\n",
            "==============================\n",
            "============= col ==============\n",
            " [[45. 65. 72.  0. 65. 24.  0.  0. 24.]\n",
            " [38.  0. 77. 72.  0. 24.  5.  0.  0.]\n",
            " [ 5. 65.  0. 77. 65.  9. 24.  5. 55.]\n",
            " [72.  5. 65. 72. 10. 65.  9. 10. 71.]\n",
            " [21. 83. 53. 77. 83. 95. 77. 81. 95.]\n",
            " [20. 81. 44. 53. 77. 85. 98. 77. 81.]\n",
            " [98. 59. 81. 44. 59. 91. 85. 98. 80.]\n",
            " [29. 98. 59. 29. 91. 59. 91. 91. 94.]]\n",
            "==============================\n"
          ],
          "name": "stdout"
        }
      ]
    },
    {
      "cell_type": "markdown",
      "metadata": {
        "id": "pVWkG1cbVKyf"
      },
      "source": [
        "・input_dataの各次元のサイズやフィルターサイズ・ストライド・パディングを変えてみよう"
      ]
    },
    {
      "cell_type": "code",
      "metadata": {
        "colab": {
          "base_uri": "https://localhost:8080/"
        },
        "id": "muSlz3LoXPwC",
        "outputId": "9f3e985d-3885-4482-ec20-f4223670e0d8"
      },
      "source": [
        "# im2colの処理確認\n",
        "input_data_exercise = np.random.rand(3, 2, 10, 10)*100//1 # number, channel, height, widthを表す\n",
        "print('========== input_data ===========\\n', input_data_exercise)\n",
        "print('==============================')\n",
        "filter_h = 4\n",
        "filter_w = 4\n",
        "stride = 5\n",
        "pad = 2\n",
        "col_exercise = im2col_exercise(input_data_exercise, filter_h=filter_h, filter_w=filter_w, stride=stride, pad=pad)\n",
        "print('============= col ==============\\n', col_exercise)\n",
        "print('==============================')"
      ],
      "execution_count": null,
      "outputs": [
        {
          "output_type": "stream",
          "text": [
            "========== input_data ===========\n",
            " [[[[81. 22. 88. 84. 51. 81.  1. 93. 55. 52.]\n",
            "   [21. 46. 14. 35. 17. 54. 11. 33. 27. 57.]\n",
            "   [38. 52. 87. 74. 13.  6. 11. 47. 80. 79.]\n",
            "   [ 6.  9. 95. 28. 87.  3. 79. 84. 71. 34.]\n",
            "   [88. 50. 40. 39. 32.  5. 34. 76. 77. 95.]\n",
            "   [28. 72. 32. 53. 59. 24. 43. 58. 17. 22.]\n",
            "   [29. 93. 78. 93. 97. 92. 35. 99. 95. 84.]\n",
            "   [60. 36. 94. 25. 42. 47. 87. 85. 77. 90.]\n",
            "   [79. 19. 17.  3. 35. 95. 93. 26. 61. 54.]\n",
            "   [52. 91. 11. 58. 45. 66.  8. 71.  4. 39.]]\n",
            "\n",
            "  [[42. 32. 40. 58. 81. 20. 79. 43. 32. 26.]\n",
            "   [19. 33. 30. 49. 64. 97. 58. 35. 27. 68.]\n",
            "   [86. 67.  3. 73. 92. 58. 43. 52. 17. 73.]\n",
            "   [64. 49. 19. 36. 39. 23. 59. 31. 59. 35.]\n",
            "   [99. 94. 55. 24.  7. 13. 90.  3. 23. 59.]\n",
            "   [97. 84. 61. 43. 17. 77. 79. 35. 16. 81.]\n",
            "   [88. 44. 45. 29. 59. 87. 17.  4. 97. 94.]\n",
            "   [34.  4. 91.  0. 40. 46. 63.  3. 60. 75.]\n",
            "   [88. 24. 53. 26. 29. 56. 93. 76. 93. 28.]\n",
            "   [10. 30. 32. 28. 39. 89. 47. 58. 90. 11.]]]\n",
            "\n",
            "\n",
            " [[[50. 81. 44. 31. 34.  8. 61. 13. 36. 36.]\n",
            "   [19. 56. 71. 88. 23. 87. 35. 35. 43. 11.]\n",
            "   [67.  7. 18. 97. 39. 44. 93. 49. 59. 69.]\n",
            "   [49. 32.  4. 24. 42. 74. 67. 77. 60. 22.]\n",
            "   [ 5.  7. 45. 27. 25. 92. 61. 89.  1. 58.]\n",
            "   [97. 72. 60. 76. 52.  5. 39.  1. 50. 63.]\n",
            "   [22. 62. 64. 24.  1. 12. 20. 44. 54. 65.]\n",
            "   [ 4. 84. 93. 52.  8. 54. 10. 80. 51. 29.]\n",
            "   [ 4. 61.  6. 97. 34. 41. 27. 42.  5. 39.]\n",
            "   [69. 47. 87. 71. 88. 60. 36. 30. 97. 93.]]\n",
            "\n",
            "  [[28. 83.  6. 60. 77. 17. 34.  8. 38. 45.]\n",
            "   [40. 57. 21. 99. 14. 84. 50. 42. 63. 39.]\n",
            "   [93. 87. 24. 52. 74. 77. 64.  1. 49. 10.]\n",
            "   [11. 80. 94. 31. 88. 54.  5. 23. 60. 90.]\n",
            "   [94. 90. 80. 10. 78. 29.  2. 13. 89. 63.]\n",
            "   [46. 72. 49. 26. 10. 65. 28.  7. 68. 44.]\n",
            "   [19. 26. 67. 67. 38. 77.  0. 64. 68.  9.]\n",
            "   [12. 34. 83. 40. 41. 37. 68. 89. 24. 38.]\n",
            "   [13.  1. 79. 66. 94. 14. 37. 82. 69. 79.]\n",
            "   [72. 63. 90.  0. 51. 36. 80. 25. 81. 35.]]]\n",
            "\n",
            "\n",
            " [[[48.  2. 50. 27. 86. 70.  9. 70. 79. 25.]\n",
            "   [32. 42. 41. 17. 22. 73. 13. 54. 68. 85.]\n",
            "   [81. 48. 64. 79. 53.  6.  1.  1. 71. 89.]\n",
            "   [28. 49. 73. 75. 61. 78. 43. 42. 74. 95.]\n",
            "   [67. 86.  6. 54. 69. 94. 36. 58. 14. 79.]\n",
            "   [44. 40. 16. 92. 59. 73. 78. 86. 95. 60.]\n",
            "   [46. 71. 85. 56. 96. 58. 39. 35. 59. 84.]\n",
            "   [33. 32.  8. 17. 85. 17. 49. 81. 15.  1.]\n",
            "   [59. 72. 88. 33. 15. 19. 38.  5. 70. 82.]\n",
            "   [83.  9. 55. 87. 22. 22. 87. 92. 13. 30.]]\n",
            "\n",
            "  [[ 0. 45. 57. 10. 86. 43. 48. 13. 14. 85.]\n",
            "   [44. 67. 82.  6. 50. 85. 48. 14. 64. 35.]\n",
            "   [83. 85. 80. 35. 52. 91. 62. 69. 89. 12.]\n",
            "   [69. 18. 27. 26. 60. 49. 29. 99. 38. 55.]\n",
            "   [81. 23. 37. 60. 22. 55. 57. 62. 84. 56.]\n",
            "   [55. 69. 51. 97. 76. 71.  6. 45. 67. 61.]\n",
            "   [59. 79. 58.  6. 99. 74. 91. 55. 84. 97.]\n",
            "   [10.  8.  6. 67. 90. 93. 52. 85. 42. 11.]\n",
            "   [62. 69. 69. 33. 95. 16. 70. 90. 15. 33.]\n",
            "   [93. 55. 46. 51. 92. 96.  6. 38. 83. 50.]]]]\n",
            "==============================\n",
            "============= col ==============\n",
            " [[ 0.  0.  0.  0. 28. 71.  0.  3. 61.  0.  0.  0.  0. 87. 34.  0. 35. 54.\n",
            "   0.  0.  0.  6.  3.  0. 79. 95.  0.  0.  0.  0.  9. 79.]\n",
            " [ 0. 19. 93.  0.  0.  0.  0.  0. 39. 77.  0. 58.  4.  0.  0.  0.  0. 32.\n",
            "  95.  0. 45. 39.  0.  0.  0. 88.  5.  0. 52. 66.  0.  0.]\n",
            " [ 0.  0. 50. 34.  0. 91.  8.  0.  0. 84. 55.  0. 53. 17.  0.  0.  0.  0.\n",
            "  51. 52.  0. 59. 22.  0.  0.  0. 81. 81.  0. 28. 24.  0.]\n",
            " [ 0.  0.  0. 22.  1.  0. 72. 43.  0.  0.  0.  0.  0. 35. 27.  0. 93. 95.\n",
            "   0.  0.  0.  0. 17. 57.  0. 97. 84.  0.  0.  0. 21. 54.]\n",
            " [ 0. 29. 92.  0.  0.  0.  0. 46. 11.  0. 93. 35.  0.  0.  0.  0.  0.  0.\n",
            "   0.  0. 36. 59.  0. 26. 93.  0.  0.  0.  0. 39. 35.  0.]\n",
            " [29. 28.  0.  0.  0. 64. 23.  0. 88. 56.  0.  0.  0.  0. 49. 59.  0. 24.\n",
            "  93.  0.  0.  0.  0.  0. 24. 23.  0. 28. 90.  0.  0.  0.]\n",
            " [ 0.  7. 59.  0. 39. 11.  0.  0.  0. 99. 13.  0. 10. 89.  0.  0.  0.  0.\n",
            "  94. 90.  0. 30. 47.  0.  0. 58. 32.  0. 43. 16.  0.  0.]\n",
            " [ 0.  0. 81. 26.  0. 17. 81.  0.  0.  0. 42. 20.  0. 97. 77.  0.  0.  0.\n",
            "   0. 32. 79.  0. 84. 79.  0.  0.  0.  0.  0. 49. 27.  0.]\n",
            " [29. 97.  0.  0.  0.  0. 64. 68.  0. 59. 94.  0.  0.  0. 19. 97.  0. 88.\n",
            "  87.  0.  0.  0.  0. 33. 58.  0. 44. 17.  0.  0.  0.  0.]\n",
            " [ 0.  0.  0.  0. 24. 60.  0. 97.  5.  0.  0.  0.  0. 42. 22.  0. 34. 39.\n",
            "   0.  0.  0. 49. 74.  0.  4. 41.  0.  0.  0.  0. 32. 67.]\n",
            " [ 0. 61. 27.  0.  0.  0.  0.  0. 27.  1.  0. 71. 97.  0.  0.  0.  0. 25.\n",
            "  58.  0. 88. 93.  0.  0.  0.  5. 92.  0. 69. 60.  0.  0.]\n",
            " [ 0.  0.  7. 61.  0. 47. 36.  0.  0. 31. 36.  0. 76. 50.  0.  0.  0.  0.\n",
            "  34. 36.  0. 52. 63.  0.  0.  0. 50.  8.  0. 97.  5.  0.]\n",
            " [ 0.  0.  0. 81. 61.  0. 72. 39.  0.  0.  0.  0.  0. 88. 43.  0. 24. 54.\n",
            "   0.  0.  0.  0. 23. 11.  0.  1. 65.  0.  0.  0. 19. 87.]\n",
            " [ 0. 22. 12.  0.  0.  0.  0. 56. 35.  0. 62. 20.  0.  0.  0.  0.  0.  0.\n",
            "   0.  0. 31. 60.  0. 66. 69.  0.  0.  0.  0. 88. 90.  0.]\n",
            " [94. 79.  0.  0.  0. 11. 54.  0. 13. 14.  0.  0.  0.  0. 80.  5.  0.  1.\n",
            "  37.  0.  0.  0.  0.  0. 10. 89.  0.  0. 81.  0.  0.  0.]\n",
            " [ 0. 78. 63.  0. 51. 35.  0.  0.  0. 94. 29.  0. 72. 36.  0.  0.  0.  0.\n",
            "  90.  2.  0. 63. 80.  0.  0. 60. 38.  0. 26. 68.  0.  0.]\n",
            " [ 0.  0. 77. 45.  0. 10. 44.  0.  0.  0. 28. 17.  0. 46. 65.  0.  0.  0.\n",
            "   0. 83. 34.  0. 72. 28.  0.  0.  0.  0.  0. 99. 63.  0.]\n",
            " [67. 68.  0.  0.  0.  0. 14. 39.  0. 38.  9.  0.  0.  0. 40. 84.  0. 19.\n",
            "  77.  0.  0.  0.  0. 57. 50.  0. 26.  0.  0.  0.  0.  0.]\n",
            " [ 0.  0.  0.  0. 75. 74.  0. 33. 70.  0.  0.  0.  0. 61. 95.  0. 15. 82.\n",
            "   0.  0.  0. 28. 78.  0. 59. 19.  0.  0.  0.  0. 49. 43.]\n",
            " [ 0. 72. 38.  0.  0.  0.  0.  0. 54. 14.  0. 87. 13.  0.  0.  0.  0. 69.\n",
            "  79.  0. 22. 30.  0.  0.  0. 67. 94.  0. 83. 22.  0.  0.]\n",
            " [ 0.  0. 86. 36.  0.  9. 87.  0.  0. 27. 79.  0. 92. 95.  0.  0.  0.  0.\n",
            "  86. 25.  0. 59. 60.  0.  0.  0. 48. 70.  0. 44. 73.  0.]\n",
            " [ 0.  0.  0.  2.  9.  0. 40. 78.  0.  0.  0.  0.  0. 17. 68.  0. 56. 59.\n",
            "   0.  0.  0.  0. 22. 85.  0. 96. 84.  0.  0.  0. 32. 73.]\n",
            " [ 0. 46. 58.  0.  0.  0.  0. 42. 13.  0. 71. 39.  0.  0.  0.  0.  0.  0.\n",
            "   0.  0. 26. 38.  0. 33. 15.  0.  0.  0.  0. 60. 55.  0.]\n",
            " [95. 33.  0.  0.  0. 69. 49.  0. 62. 16.  0.  0.  0.  0. 18. 29.  0. 69.\n",
            "  70.  0.  0.  0.  0.  0. 60. 84.  0. 51. 83.  0.  0.  0.]\n",
            " [ 0. 22. 56.  0. 92. 50.  0.  0.  0. 81. 55.  0. 93. 96.  0.  0.  0.  0.\n",
            "  23. 57.  0. 55.  6.  0.  0. 10. 14.  0. 97. 67.  0.  0.]\n",
            " [ 0.  0. 86. 85.  0. 76. 61.  0.  0.  0.  0. 43.  0. 55. 71.  0.  0.  0.\n",
            "   0. 45. 48.  0. 69.  6.  0.  0.  0.  0.  0.  6. 64.  0.]\n",
            " [ 6. 84.  0.  0.  0.  0. 50. 35.  0. 99. 97.  0.  0.  0. 44. 85.  0. 59.\n",
            "  74.  0.  0.  0.  0. 67. 48.  0. 79. 91.  0.  0.  0.  0.]]\n",
            "==============================\n"
          ],
          "name": "stdout"
        }
      ]
    },
    {
      "cell_type": "code",
      "metadata": {
        "id": "JAThquk6VMF0",
        "outputId": "8e958da3-7d3b-41b9-9e86-192ebbe4053d",
        "colab": {
          "base_uri": "https://localhost:8080/"
        }
      },
      "source": [
        "# im2colの処理確認\n",
        "input_data = np.random.rand(2, 1, 4, 4)*100//1 # number, channel, height, widthを表す\n",
        "print('========== input_data ===========\\n', input_data)\n",
        "print('==============================')\n",
        "filter_h = 3\n",
        "filter_w = 3\n",
        "stride = 1\n",
        "pad = 0\n",
        "col = im2col(input_data, filter_h=filter_h, filter_w=filter_w, stride=stride, pad=pad)\n",
        "print('============= col ==============\\n', col)\n",
        "print('==============================')"
      ],
      "execution_count": 32,
      "outputs": [
        {
          "output_type": "stream",
          "text": [
            "========== input_data ===========\n",
            " [[[[89. 61. 98. 80.]\n",
            "   [97. 17.  7. 16.]\n",
            "   [ 2. 88. 85. 22.]\n",
            "   [ 8. 61.  8. 35.]]]\n",
            "\n",
            "\n",
            " [[[97. 54. 95. 87.]\n",
            "   [96. 23.  6. 40.]\n",
            "   [49. 13. 16. 65.]\n",
            "   [27. 19.  2. 79.]]]]\n",
            "==============================\n",
            "============= col ==============\n",
            " [[89. 61. 98. 97. 17.  7.  2. 88. 85.]\n",
            " [61. 98. 80. 17.  7. 16. 88. 85. 22.]\n",
            " [97. 17.  7.  2. 88. 85.  8. 61.  8.]\n",
            " [17.  7. 16. 88. 85. 22. 61.  8. 35.]\n",
            " [97. 54. 95. 96. 23.  6. 49. 13. 16.]\n",
            " [54. 95. 87. 23.  6. 40. 13. 16. 65.]\n",
            " [96. 23.  6. 49. 13. 16. 27. 19.  2.]\n",
            " [23.  6. 40. 13. 16. 65. 19.  2. 79.]]\n",
            "==============================\n"
          ],
          "name": "stdout"
        }
      ]
    },
    {
      "cell_type": "markdown",
      "metadata": {
        "id": "LJUuuhH_qyGE"
      },
      "source": [
        "## column to image"
      ]
    },
    {
      "cell_type": "code",
      "metadata": {
        "id": "4fJv1WjHqyGE"
      },
      "source": [
        "# ２次元配列を画像データに変換\n",
        "def col2im(col, input_shape, filter_h, filter_w, stride=1, pad=0):\n",
        "    # N: number, C: channel, H: height, W: width\n",
        "    N, C, H, W = input_shape\n",
        "    # 切り捨て除算    \n",
        "    out_h = (H + 2 * pad - filter_h)//stride + 1\n",
        "    out_w = (W + 2 * pad - filter_w)//stride + 1\n",
        "    col = col.reshape(N, out_h, out_w, C, filter_h, filter_w).transpose(0, 3, 4, 5, 1, 2) # (N, filter_h, filter_w, out_h, out_w, C)\n",
        "\n",
        "    img = np.zeros((N, C, H + 2 * pad + stride - 1, W + 2 * pad + stride - 1))\n",
        "    for y in range(filter_h):\n",
        "        y_max = y + stride * out_h\n",
        "        for x in range(filter_w):\n",
        "            x_max = x + stride * out_w\n",
        "            img[:, :, y:y_max:stride, x:x_max:stride] += col[:, :, y, x, :, :]\n",
        "\n",
        "    return img[:, :, pad:H + pad, pad:W + pad]"
      ],
      "execution_count": 33,
      "outputs": []
    },
    {
      "cell_type": "markdown",
      "metadata": {
        "id": "5LL49exbqyGH"
      },
      "source": [
        "----------------------------------------------------------------------------------------------------------------------------------------------------------------------------\n",
        "## [try] col2imの処理を確認しよう\n",
        "・im2colの確認で出力したcolをimageに変換して確認しよう\n",
        "\n",
        "----------------------------------------------------------------------------------------------------------------------------------------------------------------------------"
      ]
    },
    {
      "cell_type": "code",
      "metadata": {
        "id": "CRofdYlLqyGI",
        "colab": {
          "base_uri": "https://localhost:8080/"
        },
        "outputId": "47f09702-e87e-48ef-c33b-f77f3340ea6d"
      },
      "source": [
        "# ここにcol2imでの処理を書こう\n",
        "img = col2im(col, input_shape=input_data.shape, filter_h=filter_h, filter_w=filter_w, stride=stride, pad=pad)\n",
        "print(img)"
      ],
      "execution_count": 34,
      "outputs": [
        {
          "output_type": "stream",
          "text": [
            "[[[[ 89. 122. 196.  80.]\n",
            "   [194.  68.  28.  32.]\n",
            "   [  4. 352. 340.  44.]\n",
            "   [  8. 122.  16.  35.]]]\n",
            "\n",
            "\n",
            " [[[ 97. 108. 190.  87.]\n",
            "   [192.  92.  24.  80.]\n",
            "   [ 98.  52.  64. 130.]\n",
            "   [ 27.  38.   4.  79.]]]]\n"
          ],
          "name": "stdout"
        }
      ]
    },
    {
      "cell_type": "markdown",
      "metadata": {
        "id": "guurj1jcqyGK"
      },
      "source": [
        "## convolution class"
      ]
    },
    {
      "cell_type": "code",
      "metadata": {
        "id": "cj68mVF9qyGL"
      },
      "source": [
        "class Convolution:\n",
        "    # W: フィルター, b: バイアス\n",
        "    def __init__(self, W, b, stride=1, pad=0):\n",
        "        self.W = W\n",
        "        self.b = b\n",
        "        self.stride = stride\n",
        "        self.pad = pad\n",
        "        \n",
        "        # 中間データ（backward時に使用）\n",
        "        self.x = None   \n",
        "        self.col = None\n",
        "        self.col_W = None\n",
        "        \n",
        "        # フィルター・バイアスパラメータの勾配\n",
        "        self.dW = None\n",
        "        self.db = None\n",
        "\n",
        "    def forward(self, x):\n",
        "        # FN: filter_number, C: channel, FH: filter_height, FW: filter_width\n",
        "        FN, C, FH, FW = self.W.shape\n",
        "        N, C, H, W = x.shape\n",
        "        # 出力値のheight, width\n",
        "        out_h = 1 + int((H + 2 * self.pad - FH) / self.stride)\n",
        "        out_w = 1 + int((W + 2 * self.pad - FW) / self.stride)\n",
        "        \n",
        "        # xを行列に変換\n",
        "        col = im2col(x, FH, FW, self.stride, self.pad)\n",
        "        # フィルターをxに合わせた行列に変換\n",
        "        col_W = self.W.reshape(FN, -1).T\n",
        "\n",
        "        out = np.dot(col, col_W) + self.b\n",
        "        # 計算のために変えた形式を戻す\n",
        "        out = out.reshape(N, out_h, out_w, -1).transpose(0, 3, 1, 2)\n",
        "\n",
        "        self.x = x\n",
        "        self.col = col\n",
        "        self.col_W = col_W\n",
        "\n",
        "        return out\n",
        "\n",
        "    def backward(self, dout):\n",
        "        FN, C, FH, FW = self.W.shape\n",
        "        dout = dout.transpose(0, 2, 3, 1).reshape(-1, FN)\n",
        "\n",
        "        self.db = np.sum(dout, axis=0)\n",
        "        self.dW = np.dot(self.col.T, dout)\n",
        "        self.dW = self.dW.transpose(1, 0).reshape(FN, C, FH, FW)\n",
        "\n",
        "        dcol = np.dot(dout, self.col_W.T)\n",
        "        # dcolを画像データに変換\n",
        "        dx = col2im(dcol, self.x.shape, FH, FW, self.stride, self.pad)\n",
        "\n",
        "        return dx\n"
      ],
      "execution_count": 35,
      "outputs": []
    },
    {
      "cell_type": "markdown",
      "metadata": {
        "id": "S8DvcFLkqyGN"
      },
      "source": [
        "## pooling class"
      ]
    },
    {
      "cell_type": "code",
      "metadata": {
        "id": "fPFQEp6oqyGO"
      },
      "source": [
        "class Pooling:\n",
        "    def __init__(self, pool_h, pool_w, stride=1, pad=0):\n",
        "        self.pool_h = pool_h\n",
        "        self.pool_w = pool_w\n",
        "        self.stride = stride\n",
        "        self.pad = pad\n",
        "        \n",
        "        self.x = None\n",
        "        self.arg_max = None\n",
        "\n",
        "    def forward(self, x):\n",
        "        N, C, H, W = x.shape\n",
        "        out_h = int(1 + (H - self.pool_h) / self.stride)\n",
        "        out_w = int(1 + (W - self.pool_w) / self.stride)\n",
        "        \n",
        "        # xを行列に変換\n",
        "        col = im2col(x, self.pool_h, self.pool_w, self.stride, self.pad)\n",
        "        # プーリングのサイズに合わせてリサイズ\n",
        "        col = col.reshape(-1, self.pool_h*self.pool_w)\n",
        "        \n",
        "        #maxプーリング\n",
        "        arg_max = np.argmax(col, axis=1)\n",
        "        out = np.max(col, axis=1)\n",
        "        out = out.reshape(N, out_h, out_w, C).transpose(0, 3, 1, 2)\n",
        "\n",
        "        self.x = x\n",
        "        self.arg_max = arg_max\n",
        "\n",
        "        return out\n",
        "\n",
        "    def backward(self, dout):\n",
        "        dout = dout.transpose(0, 2, 3, 1)\n",
        "        \n",
        "        pool_size = self.pool_h * self.pool_w\n",
        "        dmax = np.zeros((dout.size, pool_size))\n",
        "        dmax[np.arange(self.arg_max.size), self.arg_max.flatten()] = dout.flatten()\n",
        "        dmax = dmax.reshape(dout.shape + (pool_size,)) \n",
        "        \n",
        "        dcol = dmax.reshape(dmax.shape[0] * dmax.shape[1] * dmax.shape[2], -1)\n",
        "        dx = col2im(dcol, self.x.shape, self.pool_h, self.pool_w, self.stride, self.pad)\n",
        "        \n",
        "        return dx\n"
      ],
      "execution_count": 36,
      "outputs": []
    },
    {
      "cell_type": "markdown",
      "metadata": {
        "id": "KLfCa2FsqyGR"
      },
      "source": [
        "## sinple convolution network class"
      ]
    },
    {
      "cell_type": "code",
      "metadata": {
        "id": "dr8AeVz2qyGR"
      },
      "source": [
        "class SimpleConvNet:\n",
        "    # conv - relu - pool - affine - relu - affine - softmax\n",
        "    def __init__(self, input_dim=(1, 28, 28), conv_param={'filter_num':30, 'filter_size':5, 'pad':0, 'stride':1},\n",
        "                 hidden_size=100, output_size=10, weight_init_std=0.01):\n",
        "        filter_num = conv_param['filter_num']        \n",
        "        filter_size = conv_param['filter_size']\n",
        "        filter_pad = conv_param['pad']\n",
        "        filter_stride = conv_param['stride']\n",
        "        input_size = input_dim[1]\n",
        "        conv_output_size = (input_size - filter_size + 2 * filter_pad) / filter_stride + 1\n",
        "        pool_output_size = int(filter_num * (conv_output_size / 2) * (conv_output_size / 2))\n",
        "\n",
        "        # 重みの初期化\n",
        "        self.params = {}\n",
        "        self.params['W1'] = weight_init_std * np.random.randn(filter_num, input_dim[0], filter_size, filter_size)\n",
        "        self.params['b1'] = np.zeros(filter_num)\n",
        "        self.params['W2'] = weight_init_std * np.random.randn(pool_output_size, hidden_size)\n",
        "        self.params['b2'] = np.zeros(hidden_size)\n",
        "        self.params['W3'] = weight_init_std * np.random.randn(hidden_size, output_size)\n",
        "        self.params['b3'] = np.zeros(output_size)\n",
        "\n",
        "        # レイヤの生成\n",
        "        self.layers = OrderedDict()\n",
        "        self.layers['Conv1'] = layers.Convolution(self.params['W1'], self.params['b1'], conv_param['stride'], conv_param['pad'])\n",
        "        self.layers['Relu1'] = layers.Relu()\n",
        "        self.layers['Pool1'] = layers.Pooling(pool_h=2, pool_w=2, stride=2)\n",
        "        self.layers['Affine1'] = layers.Affine(self.params['W2'], self.params['b2'])\n",
        "        self.layers['Relu2'] = layers.Relu()\n",
        "        self.layers['Affine2'] = layers.Affine(self.params['W3'], self.params['b3'])\n",
        "\n",
        "        self.last_layer = layers.SoftmaxWithLoss()\n",
        "\n",
        "    def predict(self, x):\n",
        "        for key in self.layers.keys():\n",
        "            x = self.layers[key].forward(x)\n",
        "        return x\n",
        "        \n",
        "    def loss(self, x, d):\n",
        "        y = self.predict(x)\n",
        "        return self.last_layer.forward(y, d)\n",
        "\n",
        "    def accuracy(self, x, d, batch_size=100):\n",
        "        if d.ndim != 1 : d = np.argmax(d, axis=1)\n",
        "        \n",
        "        acc = 0.0\n",
        "        \n",
        "        for i in range(int(x.shape[0] / batch_size)):\n",
        "            tx = x[i*batch_size:(i+1)*batch_size]\n",
        "            td = d[i*batch_size:(i+1)*batch_size]\n",
        "            y = self.predict(tx)\n",
        "            y = np.argmax(y, axis=1)\n",
        "            acc += np.sum(y == td) \n",
        "        \n",
        "        return acc / x.shape[0]\n",
        "\n",
        "    def gradient(self, x, d):\n",
        "        # forward\n",
        "        self.loss(x, d)\n",
        "        \n",
        "        # backward\n",
        "        dout = 1\n",
        "        dout = self.last_layer.backward(dout)\n",
        "        layers = list(self.layers.values())\n",
        "        \n",
        "        layers.reverse()\n",
        "        for layer in layers:\n",
        "            dout = layer.backward(dout)\n",
        "\n",
        "        # 設定\n",
        "        grad = {}\n",
        "        grad['W1'], grad['b1'] = self.layers['Conv1'].dW, self.layers['Conv1'].db\n",
        "        grad['W2'], grad['b2'] = self.layers['Affine1'].dW, self.layers['Affine1'].db\n",
        "        grad['W3'], grad['b3'] = self.layers['Affine2'].dW, self.layers['Affine2'].db\n",
        "\n",
        "        return grad"
      ],
      "execution_count": 37,
      "outputs": []
    },
    {
      "cell_type": "code",
      "metadata": {
        "scrolled": false,
        "id": "37cJRgGaqyGV",
        "colab": {
          "base_uri": "https://localhost:8080/",
          "height": 1000
        },
        "outputId": "ec59a8ce-fc71-4dc7-9736-009cf9856d0c"
      },
      "source": [
        "from common import optimizer\n",
        "\n",
        "# データの読み込み\n",
        "(x_train, d_train), (x_test, d_test) = load_mnist(flatten=False)\n",
        "\n",
        "print(\"データ読み込み完了\")\n",
        "\n",
        "# 処理に時間のかかる場合はデータを削減 \n",
        "x_train, d_train = x_train[:5000], d_train[:5000]\n",
        "x_test, d_test = x_test[:1000], d_test[:1000]\n",
        "\n",
        "\n",
        "network = SimpleConvNet(input_dim=(1,28,28), conv_param = {'filter_num': 30, 'filter_size': 5, 'pad': 0, 'stride': 1},\n",
        "                        hidden_size=100, output_size=10, weight_init_std=0.01)\n",
        "\n",
        "optimizer = optimizer.Adam()\n",
        "\n",
        "iters_num = 1000\n",
        "train_size = x_train.shape[0]\n",
        "batch_size = 100\n",
        "\n",
        "train_loss_list = []\n",
        "accuracies_train = []\n",
        "accuracies_test = []\n",
        "\n",
        "plot_interval=10\n",
        "\n",
        "\n",
        "\n",
        "for i in range(iters_num):\n",
        "    batch_mask = np.random.choice(train_size, batch_size)\n",
        "    x_batch = x_train[batch_mask]\n",
        "    d_batch = d_train[batch_mask]\n",
        "    \n",
        "    grad = network.gradient(x_batch, d_batch)\n",
        "    optimizer.update(network.params, grad)\n",
        "\n",
        "    loss = network.loss(x_batch, d_batch)\n",
        "    train_loss_list.append(loss)\n",
        "\n",
        "    if (i+1) % plot_interval == 0:\n",
        "        accr_train = network.accuracy(x_train, d_train)\n",
        "        accr_test = network.accuracy(x_test, d_test)\n",
        "        accuracies_train.append(accr_train)\n",
        "        accuracies_test.append(accr_test)\n",
        "        \n",
        "        print('Generation: ' + str(i+1) + '. 正答率(トレーニング) = ' + str(accr_train))\n",
        "        print('                : ' + str(i+1) + '. 正答率(テスト) = ' + str(accr_test))               \n",
        "\n",
        "lists = range(0, iters_num, plot_interval)\n",
        "plt.plot(lists, accuracies_train, label=\"training set\")\n",
        "plt.plot(lists, accuracies_test,  label=\"test set\")\n",
        "plt.legend(loc=\"lower right\")\n",
        "plt.title(\"accuracy\")\n",
        "plt.xlabel(\"count\")\n",
        "plt.ylabel(\"accuracy\")\n",
        "plt.ylim(0, 1.0)\n",
        "# グラフの表示\n",
        "plt.show()"
      ],
      "execution_count": 38,
      "outputs": [
        {
          "output_type": "stream",
          "text": [
            "データ読み込み完了\n",
            "Generation: 10. 正答率(トレーニング) = 0.3616\n",
            "                : 10. 正答率(テスト) = 0.326\n",
            "Generation: 20. 正答率(トレーニング) = 0.545\n",
            "                : 20. 正答率(テスト) = 0.51\n",
            "Generation: 30. 正答率(トレーニング) = 0.7244\n",
            "                : 30. 正答率(テスト) = 0.69\n",
            "Generation: 40. 正答率(トレーニング) = 0.7702\n",
            "                : 40. 正答率(テスト) = 0.736\n",
            "Generation: 50. 正答率(トレーニング) = 0.8258\n",
            "                : 50. 正答率(テスト) = 0.807\n",
            "Generation: 60. 正答率(トレーニング) = 0.8486\n",
            "                : 60. 正答率(テスト) = 0.798\n",
            "Generation: 70. 正答率(トレーニング) = 0.8786\n",
            "                : 70. 正答率(テスト) = 0.83\n",
            "Generation: 80. 正答率(トレーニング) = 0.8856\n",
            "                : 80. 正答率(テスト) = 0.864\n",
            "Generation: 90. 正答率(トレーニング) = 0.8968\n",
            "                : 90. 正答率(テスト) = 0.878\n",
            "Generation: 100. 正答率(トレーニング) = 0.8878\n",
            "                : 100. 正答率(テスト) = 0.865\n",
            "Generation: 110. 正答率(トレーニング) = 0.9\n",
            "                : 110. 正答率(テスト) = 0.868\n",
            "Generation: 120. 正答率(トレーニング) = 0.893\n",
            "                : 120. 正答率(テスト) = 0.868\n",
            "Generation: 130. 正答率(トレーニング) = 0.9094\n",
            "                : 130. 正答率(テスト) = 0.887\n",
            "Generation: 140. 正答率(トレーニング) = 0.9162\n",
            "                : 140. 正答率(テスト) = 0.894\n",
            "Generation: 150. 正答率(トレーニング) = 0.9212\n",
            "                : 150. 正答率(テスト) = 0.89\n",
            "Generation: 160. 正答率(トレーニング) = 0.9174\n",
            "                : 160. 正答率(テスト) = 0.886\n",
            "Generation: 170. 正答率(トレーニング) = 0.9292\n",
            "                : 170. 正答率(テスト) = 0.907\n",
            "Generation: 180. 正答率(トレーニング) = 0.9202\n",
            "                : 180. 正答率(テスト) = 0.889\n",
            "Generation: 190. 正答率(トレーニング) = 0.9288\n",
            "                : 190. 正答率(テスト) = 0.91\n",
            "Generation: 200. 正答率(トレーニング) = 0.9328\n",
            "                : 200. 正答率(テスト) = 0.904\n",
            "Generation: 210. 正答率(トレーニング) = 0.9348\n",
            "                : 210. 正答率(テスト) = 0.911\n",
            "Generation: 220. 正答率(トレーニング) = 0.9464\n",
            "                : 220. 正答率(テスト) = 0.91\n",
            "Generation: 230. 正答率(トレーニング) = 0.9456\n",
            "                : 230. 正答率(テスト) = 0.918\n",
            "Generation: 240. 正答率(トレーニング) = 0.9432\n",
            "                : 240. 正答率(テスト) = 0.917\n",
            "Generation: 250. 正答率(トレーニング) = 0.944\n",
            "                : 250. 正答率(テスト) = 0.91\n",
            "Generation: 260. 正答率(トレーニング) = 0.9506\n",
            "                : 260. 正答率(テスト) = 0.918\n",
            "Generation: 270. 正答率(トレーニング) = 0.951\n",
            "                : 270. 正答率(テスト) = 0.925\n",
            "Generation: 280. 正答率(トレーニング) = 0.9524\n",
            "                : 280. 正答率(テスト) = 0.914\n",
            "Generation: 290. 正答率(トレーニング) = 0.9572\n",
            "                : 290. 正答率(テスト) = 0.925\n",
            "Generation: 300. 正答率(トレーニング) = 0.9564\n",
            "                : 300. 正答率(テスト) = 0.928\n",
            "Generation: 310. 正答率(トレーニング) = 0.9628\n",
            "                : 310. 正答率(テスト) = 0.929\n",
            "Generation: 320. 正答率(トレーニング) = 0.9638\n",
            "                : 320. 正答率(テスト) = 0.936\n",
            "Generation: 330. 正答率(トレーニング) = 0.9618\n",
            "                : 330. 正答率(テスト) = 0.933\n",
            "Generation: 340. 正答率(トレーニング) = 0.9596\n",
            "                : 340. 正答率(テスト) = 0.929\n",
            "Generation: 350. 正答率(トレーニング) = 0.9622\n",
            "                : 350. 正答率(テスト) = 0.931\n",
            "Generation: 360. 正答率(トレーニング) = 0.966\n",
            "                : 360. 正答率(テスト) = 0.942\n",
            "Generation: 370. 正答率(トレーニング) = 0.964\n",
            "                : 370. 正答率(テスト) = 0.932\n",
            "Generation: 380. 正答率(トレーニング) = 0.9664\n",
            "                : 380. 正答率(テスト) = 0.936\n",
            "Generation: 390. 正答率(トレーニング) = 0.9718\n",
            "                : 390. 正答率(テスト) = 0.941\n",
            "Generation: 400. 正答率(トレーニング) = 0.9708\n",
            "                : 400. 正答率(テスト) = 0.941\n",
            "Generation: 410. 正答率(トレーニング) = 0.97\n",
            "                : 410. 正答率(テスト) = 0.945\n",
            "Generation: 420. 正答率(トレーニング) = 0.973\n",
            "                : 420. 正答率(テスト) = 0.951\n",
            "Generation: 430. 正答率(トレーニング) = 0.9758\n",
            "                : 430. 正答率(テスト) = 0.95\n",
            "Generation: 440. 正答率(トレーニング) = 0.9706\n",
            "                : 440. 正答率(テスト) = 0.941\n",
            "Generation: 450. 正答率(トレーニング) = 0.9674\n",
            "                : 450. 正答率(テスト) = 0.938\n",
            "Generation: 460. 正答率(トレーニング) = 0.9698\n",
            "                : 460. 正答率(テスト) = 0.943\n",
            "Generation: 470. 正答率(トレーニング) = 0.9764\n",
            "                : 470. 正答率(テスト) = 0.947\n",
            "Generation: 480. 正答率(トレーニング) = 0.9776\n",
            "                : 480. 正答率(テスト) = 0.945\n",
            "Generation: 490. 正答率(トレーニング) = 0.9778\n",
            "                : 490. 正答率(テスト) = 0.946\n",
            "Generation: 500. 正答率(トレーニング) = 0.9806\n",
            "                : 500. 正答率(テスト) = 0.952\n",
            "Generation: 510. 正答率(トレーニング) = 0.9816\n",
            "                : 510. 正答率(テスト) = 0.947\n",
            "Generation: 520. 正答率(トレーニング) = 0.982\n",
            "                : 520. 正答率(テスト) = 0.955\n",
            "Generation: 530. 正答率(トレーニング) = 0.9796\n",
            "                : 530. 正答率(テスト) = 0.956\n",
            "Generation: 540. 正答率(トレーニング) = 0.9762\n",
            "                : 540. 正答率(テスト) = 0.941\n",
            "Generation: 550. 正答率(トレーニング) = 0.9696\n",
            "                : 550. 正答率(テスト) = 0.93\n",
            "Generation: 560. 正答率(トレーニング) = 0.9806\n",
            "                : 560. 正答率(テスト) = 0.945\n",
            "Generation: 570. 正答率(トレーニング) = 0.9778\n",
            "                : 570. 正答率(テスト) = 0.947\n",
            "Generation: 580. 正答率(トレーニング) = 0.9818\n",
            "                : 580. 正答率(テスト) = 0.95\n",
            "Generation: 590. 正答率(トレーニング) = 0.9836\n",
            "                : 590. 正答率(テスト) = 0.956\n",
            "Generation: 600. 正答率(トレーニング) = 0.9848\n",
            "                : 600. 正答率(テスト) = 0.953\n",
            "Generation: 610. 正答率(トレーニング) = 0.9876\n",
            "                : 610. 正答率(テスト) = 0.957\n",
            "Generation: 620. 正答率(トレーニング) = 0.9864\n",
            "                : 620. 正答率(テスト) = 0.95\n",
            "Generation: 630. 正答率(トレーニング) = 0.9868\n",
            "                : 630. 正答率(テスト) = 0.955\n",
            "Generation: 640. 正答率(トレーニング) = 0.9856\n",
            "                : 640. 正答率(テスト) = 0.959\n",
            "Generation: 650. 正答率(トレーニング) = 0.987\n",
            "                : 650. 正答率(テスト) = 0.958\n",
            "Generation: 660. 正答率(トレーニング) = 0.989\n",
            "                : 660. 正答率(テスト) = 0.955\n",
            "Generation: 670. 正答率(トレーニング) = 0.989\n",
            "                : 670. 正答率(テスト) = 0.955\n",
            "Generation: 680. 正答率(トレーニング) = 0.9858\n",
            "                : 680. 正答率(テスト) = 0.951\n",
            "Generation: 690. 正答率(トレーニング) = 0.9886\n",
            "                : 690. 正答率(テスト) = 0.951\n",
            "Generation: 700. 正答率(トレーニング) = 0.9906\n",
            "                : 700. 正答率(テスト) = 0.95\n",
            "Generation: 710. 正答率(トレーニング) = 0.9896\n",
            "                : 710. 正答率(テスト) = 0.951\n",
            "Generation: 720. 正答率(トレーニング) = 0.9886\n",
            "                : 720. 正答率(テスト) = 0.948\n",
            "Generation: 730. 正答率(トレーニング) = 0.9916\n",
            "                : 730. 正答率(テスト) = 0.95\n",
            "Generation: 740. 正答率(トレーニング) = 0.9904\n",
            "                : 740. 正答率(テスト) = 0.957\n",
            "Generation: 750. 正答率(トレーニング) = 0.9878\n",
            "                : 750. 正答率(テスト) = 0.957\n",
            "Generation: 760. 正答率(トレーニング) = 0.9904\n",
            "                : 760. 正答率(テスト) = 0.948\n",
            "Generation: 770. 正答率(トレーニング) = 0.9914\n",
            "                : 770. 正答率(テスト) = 0.953\n",
            "Generation: 780. 正答率(トレーニング) = 0.9928\n",
            "                : 780. 正答率(テスト) = 0.954\n",
            "Generation: 790. 正答率(トレーニング) = 0.9922\n",
            "                : 790. 正答率(テスト) = 0.95\n",
            "Generation: 800. 正答率(トレーニング) = 0.9936\n",
            "                : 800. 正答率(テスト) = 0.958\n",
            "Generation: 810. 正答率(トレーニング) = 0.994\n",
            "                : 810. 正答率(テスト) = 0.954\n",
            "Generation: 820. 正答率(トレーニング) = 0.9942\n",
            "                : 820. 正答率(テスト) = 0.958\n",
            "Generation: 830. 正答率(トレーニング) = 0.9946\n",
            "                : 830. 正答率(テスト) = 0.954\n",
            "Generation: 840. 正答率(トレーニング) = 0.9908\n",
            "                : 840. 正答率(テスト) = 0.959\n",
            "Generation: 850. 正答率(トレーニング) = 0.9928\n",
            "                : 850. 正答率(テスト) = 0.954\n",
            "Generation: 860. 正答率(トレーニング) = 0.9918\n",
            "                : 860. 正答率(テスト) = 0.957\n",
            "Generation: 870. 正答率(トレーニング) = 0.9944\n",
            "                : 870. 正答率(テスト) = 0.96\n",
            "Generation: 880. 正答率(トレーニング) = 0.9922\n",
            "                : 880. 正答率(テスト) = 0.954\n",
            "Generation: 890. 正答率(トレーニング) = 0.9962\n",
            "                : 890. 正答率(テスト) = 0.959\n",
            "Generation: 900. 正答率(トレーニング) = 0.9952\n",
            "                : 900. 正答率(テスト) = 0.961\n",
            "Generation: 910. 正答率(トレーニング) = 0.9966\n",
            "                : 910. 正答率(テスト) = 0.964\n",
            "Generation: 920. 正答率(トレーニング) = 0.995\n",
            "                : 920. 正答率(テスト) = 0.958\n",
            "Generation: 930. 正答率(トレーニング) = 0.9942\n",
            "                : 930. 正答率(テスト) = 0.959\n",
            "Generation: 940. 正答率(トレーニング) = 0.9926\n",
            "                : 940. 正答率(テスト) = 0.958\n",
            "Generation: 950. 正答率(トレーニング) = 0.997\n",
            "                : 950. 正答率(テスト) = 0.956\n",
            "Generation: 960. 正答率(トレーニング) = 0.9964\n",
            "                : 960. 正答率(テスト) = 0.959\n",
            "Generation: 970. 正答率(トレーニング) = 0.9966\n",
            "                : 970. 正答率(テスト) = 0.96\n",
            "Generation: 980. 正答率(トレーニング) = 0.996\n",
            "                : 980. 正答率(テスト) = 0.961\n",
            "Generation: 990. 正答率(トレーニング) = 0.9978\n",
            "                : 990. 正答率(テスト) = 0.96\n",
            "Generation: 1000. 正答率(トレーニング) = 0.9976\n",
            "                : 1000. 正答率(テスト) = 0.958\n"
          ],
          "name": "stdout"
        },
        {
          "output_type": "display_data",
          "data": {
            "image/png": "[encoded data removed]",
            "text/plain": [
              "<Figure size 432x288 with 1 Axes>"
            ]
          },
          "metadata": {
            "tags": [],
            "needs_background": "light"
          }
        }
      ]
    }
  ]
}