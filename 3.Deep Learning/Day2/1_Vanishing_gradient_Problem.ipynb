{
 "cells": [
  {
   "cell_type": "markdown",
   "metadata": {},
   "source": [
    "# 1. 勾配消失問題"
   ]
  },
  {
   "cell_type": "markdown",
   "metadata": {},
   "source": [
    "勾配消失問題とは、誤差逆伝播法で下位の層に進むにしたがって勾配が徐々に緩やかになっていく問題である。<br>\n",
    "勾配が緩やかになると、学習が進まなくなってしまう。<br>\n",
    "これは微分の連鎖率で1より小さい項が多いほど値が小さくなってしまうことに起因する。<br>\n",
    "対処法としては活性化関数の選択、重みの初期値で適切なものを選択する、バッチ正規化がある。"
   ]
  },
  {
   "cell_type": "markdown",
   "metadata": {},
   "source": [
    "## 1 活性化関数\n",
    "活性化関数でsigmoid関数を用いると、sigmoid関数の微分では最大値が0.25であるため、勾配消失問題の原因になってしまう。<br>\n",
    "これに対しReLU関数では、0以上の時に微分が1になるため勾配消失問題を回避することができる"
   ]
  },
  {
   "cell_type": "markdown",
   "metadata": {},
   "source": [
    "## 2 初期値の設定方法\n",
    "重みの初期値では、標準正規分布を用いると勾配消失問題が起きることが知られている。​\n",
    "\n",
    "これは標準正規分布を用いた時のレイヤの出力分布が、0または1に大きく分布していることが原因である。Xavier初期値では標準偏差が小さくなりこの問題を回避できる。\n",
    "\n",
    "## 3 バッチ正規化\n",
    "ミニバッチ正規化には中間層の更新が安定化して学習が早くなる、過学習が抑えられるといったメリットがある。"
   ]
  },
  {
   "cell_type": "markdown",
   "metadata": {},
   "source": [
    "## 確認テスト\n",
    "### Q. 微分の連鎖率を用いてdz/dxを求めよ\n",
    "$$\n",
    "z = t^2\\\\\n",
    "t = x + y\n",
    "$$\n",
    "### A. \n",
    "$$\n",
    "\\frac{dz}{dt} = 2t\\\\\n",
    "\\frac{dt}{dx} = 1\\\\\n",
    "\\frac{dz}{dx} = \\frac{dz}{dt}\\frac{dt}{dx} = 2t = 2x + 2y\n",
    "$$\n",
    "\n",
    "### Q. シグモイド関数を微分では入力が0の時に最大値をとる。その値はいくらか？\n",
    "### A. 0.25\n",
    "\n",
    "### Q. 重みを0で初期化するとどのような問題が生じるか？\n",
    "### A. ニューラルネットワークでは、多数の重みが多様な値を持つことで、入力の値が弱まったり強まったりして、伝播していき出力につながる。すべて0であると重みが均一に更新されてしまうため、重みの多様さがなくなってしまう。\n",
    "\n",
    "### Q. 一般的に考えられるバッチ正規化の効果を2点挙げよ\n",
    "### A. 中間層の更新が安定化して学習が早くなる、過学習が抑えられる"
   ]
  },
  {
   "cell_type": "code",
   "execution_count": null,
   "metadata": {},
   "outputs": [],
   "source": []
  }
 ],
 "metadata": {
  "kernelspec": {
   "display_name": "Python 3",
   "language": "python",
   "name": "python3"
  },
  "language_info": {
   "codemirror_mode": {
    "name": "ipython",
    "version": 3
   },
   "file_extension": ".py",
   "mimetype": "text/x-python",
   "name": "python",
   "nbconvert_exporter": "python",
   "pygments_lexer": "ipython3",
   "version": "3.6.5"
  }
 },
 "nbformat": 4,
 "nbformat_minor": 2
}
