{
 "cells": [
  {
   "cell_type": "markdown",
   "metadata": {},
   "source": [
    "# AlexNet"
   ]
  },
  {
   "cell_type": "markdown",
   "metadata": {},
   "source": [
    "イメージネットの問題を解くためのニューラルネットワーク\n",
    "#### モデルの構造\n",
    "5層の畳み込み層及びプーリング層など、それに続く3層の全結合層からなる\n",
    "<img src=\"./image/alexnet.png\">"
   ]
  },
  {
   "cell_type": "markdown",
   "metadata": {},
   "source": [
    "プーリング層から全結合層への移行\n",
    "\n",
    "- Fratten：そのまま並べる\n",
    "- Global Max Pooling：チャンネルごとに最大値を用いる\n",
    "- Global Avg Pooling：チャンネルごとに平均値を用いる\n",
    "<img src=\"./image/pooling_to_fullyconnected.jpg\">"
   ]
  },
  {
   "cell_type": "code",
   "execution_count": null,
   "metadata": {},
   "outputs": [],
   "source": []
  }
 ],
 "metadata": {
  "kernelspec": {
   "display_name": "Python 3",
   "language": "python",
   "name": "python3"
  },
  "language_info": {
   "codemirror_mode": {
    "name": "ipython",
    "version": 3
   },
   "file_extension": ".py",
   "mimetype": "text/x-python",
   "name": "python",
   "nbconvert_exporter": "python",
   "pygments_lexer": "ipython3",
   "version": "3.6.5"
  }
 },
 "nbformat": 4,
 "nbformat_minor": 2
}
