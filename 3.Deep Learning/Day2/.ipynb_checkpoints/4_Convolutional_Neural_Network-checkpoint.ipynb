{
 "cells": [
  {
   "cell_type": "markdown",
   "metadata": {},
   "source": [
    "# 畳み込みニューラルネットワーク\n",
    "CNNでは次元間でつながりのあるデータを扱える。\n"
   ]
  },
  {
   "cell_type": "markdown",
   "metadata": {},
   "source": [
    "## LeNet\n",
    "32×32ピクセルの画像が入力で、出力は10種類の分類"
   ]
  },
  {
   "cell_type": "markdown",
   "metadata": {},
   "source": [
    "## 4-1 畳み込み演算\n",
    "入力をフィルターに通して出力を得る"
   ]
  },
  {
   "cell_type": "markdown",
   "metadata": {},
   "source": [
    "### 4-1-1 バイアス\n",
    "<img src=\"example_convolution.png\">"
   ]
  },
  {
   "cell_type": "markdown",
   "metadata": {},
   "source": [
    "### 4-1-2 パディング\n",
    "畳み込み演算ではサイズが小さくなる。上の図では4×4が2×2になっている。<br>\n",
    "畳み込みを繰り返すと、小さくなりすぎてしまう。中途半端なサイズの画像(2進数で扱いずらい)になる。<br>\n",
    "これを回避するためにパディングを行う。<br>\n",
    "<img src=\"example_padding.png\">\n",
    "パディングとは入力を拡張することである。これにより出力がもともとの入力と同じサイズになる。"
   ]
  },
  {
   "cell_type": "markdown",
   "metadata": {},
   "source": [
    "### 4-1-3 ストライド\n",
    "フィルターをどの幅で動かすのかということを表す数値。<br>\n",
    "4-1-1ではフィルターを1つずつ動かしているので、ストライドは1である。\n",
    "### 4-1-4 チャンネル\n",
    "フィルターの数。"
   ]
  },
  {
   "cell_type": "markdown",
   "metadata": {},
   "source": [
    "## 4-2 プーリング\n",
    "プーリングでは対象領域の合計値を用いるのではなく、最大値または平均値を用いる。"
   ]
  },
  {
   "cell_type": "markdown",
   "metadata": {},
   "source": [
    "## 確認テスト\n",
    "サイズ6×6の入力画像を、サイズ2×2のフィルタで畳み込んだ時の出力画像のサイズはいくらになるか？\n",
    "スライドとパディングは1とする。\n",
    "\n",
    "7×7になる"
   ]
  }
 ],
 "metadata": {
  "kernelspec": {
   "display_name": "Python 3",
   "language": "python",
   "name": "python3"
  },
  "language_info": {
   "codemirror_mode": {
    "name": "ipython",
    "version": 3
   },
   "file_extension": ".py",
   "mimetype": "text/x-python",
   "name": "python",
   "nbconvert_exporter": "python",
   "pygments_lexer": "ipython3",
   "version": "3.6.5"
  }
 },
 "nbformat": 4,
 "nbformat_minor": 2
}
