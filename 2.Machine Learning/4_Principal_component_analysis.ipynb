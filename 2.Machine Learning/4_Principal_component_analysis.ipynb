{
 "cells": [
  {
   "cell_type": "markdown",
   "metadata": {},
   "source": [
    "# 4. 主成分分析\n",
    "多変量のデータの持つ構造を、情報の損失を小さくしつつより小数個の指標に圧縮する。\n",
    "\n",
    "学習データ：$x_i = (x_{i1},x_{i2},\\cdots,x_{im}) \\in \\mathbb{R}$<br>\n",
    "平均（ベクトル）：$\\bar{x} = \\frac{1}{n}\\sum_{i=1}^{n}x_i$<br>\n",
    "データ行列：$\\bar{X} = (x_1-\\bar{x},x_2-\\bar{x},\\cdots,x_n-\\bar{x})^T \\in \\mathbb{R}$<br>\n",
    "分散共分散行列：$\\sum = Var(\\bar{X}) = \\frac{1}{n} \\bar{X}^T\\bar{X}$ <br>\n",
    "線形変換後のベクトル：$s_j=(s_{1j},\\cdots,s_{nj}) = \\bar{X}a_j$\n",
    "\n",
    "* 情報の量を分散の大きさととらえる\n",
    "* 線形変換後の変数の分散が最大となる射影軸を見つける\n",
    "<img src=\"./image/2_5_pca.jpg\">\n",
    "\n",
    "* ノルムが1となる上限で最適化問題を解く<br>\n",
    "目的関数：$arg \\max\\limits_{a \\in \\mathbb{R^T}} a_{j}^{T}Var(\\bar{X})a_j$<br>\n",
    "制約条件：$a_{j}^{T}a_j=1$<br>\n",
    "ラグランジュ関数：$E(a_j)=a_{j}^{T}Var(\\bar{X})a_j-\\lambda(a_{j}^{T}a_j-1)$\n",
    "\n",
    "* ラグランジュ関数を微分して最適解を求める\n",
    "微分：$\\frac{\\partial E(a_j)}{\\partial a_j} = 2Var(\\bar{X})a_j - 2\\lambda a_j=0$<br>\n",
    "つまり、$Var(\\bar{X}a_j)a_j = \\lambda a_j$<br>\n",
    "\n",
    "### 寄与率\n",
    "* 圧縮により、どの程度情報の損失があったのかを考えるとき、寄与率を用いる。主成分分析では特定次元のみの成分を用いるということはなく、複数成分を用いることが通常であるため、複数成分に関して寄与率を考える。\n",
    "\n",
    "    * 寄与率：第k主成分の分散の全分散に対する割合（第k主成分がもつ情報量の割合）\n",
    "    $$\n",
    "    c_k = \\frac{\\lambda_k}{\\sum_{i=1}^{m}\\lambda_i}\n",
    "    $$\n",
    "    * 累積寄与率：第1-k主成分まで圧縮した際の情報損失寮の割合\n",
    "    $$\n",
    "    r_k = \\frac{\\sum_{j=1}^{k}\\lambda_j}{\\sum_{i=1}^{m}\\lambda_i}\n",
    "    $$"
   ]
  },
  {
   "cell_type": "code",
   "execution_count": null,
   "metadata": {},
   "outputs": [],
   "source": []
  }
 ],
 "metadata": {
  "kernelspec": {
   "display_name": "Python 3",
   "language": "python",
   "name": "python3"
  },
  "language_info": {
   "codemirror_mode": {
    "name": "ipython",
    "version": 3
   },
   "file_extension": ".py",
   "mimetype": "text/x-python",
   "name": "python",
   "nbconvert_exporter": "python",
   "pygments_lexer": "ipython3",
   "version": "3.6.5"
  }
 },
 "nbformat": 4,
 "nbformat_minor": 2
}
