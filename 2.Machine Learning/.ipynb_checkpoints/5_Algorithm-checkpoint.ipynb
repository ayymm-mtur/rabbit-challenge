{
 "cells": [
  {
   "cell_type": "markdown",
   "metadata": {},
   "source": [
    "# 5. アルゴリズム\n",
    "\n",
    "### k-平均法のアルゴリズム\n",
    "k-平均法とは、教師なし学習で与えられたデータをk個のクラスターに分類する手法である。\n",
    "$$\n",
    "\\begin{enumerate}\n",
    "   \\item 各クラスタの中心の初期値を設定する\n",
    "   \\item 運動の第二法則とは，運動方程式のことです．\n",
    "   \\item 運動の第三法則とは，作用反作用の法則のことです．\n",
    "\\end{enumerate}\n",
    "$$"
   ]
  }
 ],
 "metadata": {
  "kernelspec": {
   "display_name": "Python 3",
   "language": "python",
   "name": "python3"
  },
  "language_info": {
   "codemirror_mode": {
    "name": "ipython",
    "version": 3
   },
   "file_extension": ".py",
   "mimetype": "text/x-python",
   "name": "python",
   "nbconvert_exporter": "python",
   "pygments_lexer": "ipython3",
   "version": "3.6.5"
  }
 },
 "nbformat": 4,
 "nbformat_minor": 2
}
