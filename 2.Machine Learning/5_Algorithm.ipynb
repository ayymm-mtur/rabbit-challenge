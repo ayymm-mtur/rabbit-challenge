{
 "cells": [
  {
   "cell_type": "markdown",
   "metadata": {},
   "source": [
    "# 5. アルゴリズム\n",
    "\n",
    "### k-平均法のアルゴリズム\n",
    "k-平均法とは、教師なし学習で与えられたデータをk個のクラスターに分類する手法である。\n",
    "\n",
    "1. 各クラスタの中心の初期値を設定する\n",
    "1. 各データに対して、各クラスタ中心との距離を計算し、最も距離が近いクラスタを割り当てる\n",
    "1. 各クラスタの平均ベクトルを計算する\n",
    "1. 収束するまで2,3の処理を繰り返す\n",
    "\n",
    "k-平均法では初期値の決め方が重要である。初期値の決め方としてはk-means ++がある。"
   ]
  },
  {
   "cell_type": "code",
   "execution_count": null,
   "metadata": {},
   "outputs": [],
   "source": []
  }
 ],
 "metadata": {
  "kernelspec": {
   "display_name": "Python 3",
   "language": "python",
   "name": "python3"
  },
  "language_info": {
   "codemirror_mode": {
    "name": "ipython",
    "version": 3
   },
   "file_extension": ".py",
   "mimetype": "text/x-python",
   "name": "python",
   "nbconvert_exporter": "python",
   "pygments_lexer": "ipython3",
   "version": "3.6.5"
  }
 },
 "nbformat": 4,
 "nbformat_minor": 2
}
